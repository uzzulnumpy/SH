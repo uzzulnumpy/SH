{
 "cells": [
  {
   "cell_type": "code",
   "execution_count": 1,
   "id": "7ee6009d",
   "metadata": {},
   "outputs": [],
   "source": [
    "import pandas as pd"
   ]
  },
  {
   "cell_type": "code",
   "execution_count": 2,
   "id": "0df82d3e",
   "metadata": {},
   "outputs": [],
   "source": [
    "train = pd.read_csv('data/train.csv')\n",
    "test = pd.read_csv('data/test.csv')\n",
    "sample_submission = pd.read_csv('data/sample_submission.csv')"
   ]
  },
  {
   "cell_type": "code",
   "execution_count": 3,
   "id": "b694f502",
   "metadata": {},
   "outputs": [],
   "source": [
    "train['brand'] = train['title'].apply(lambda x : x.split(\" \")[0])\n",
    "test['brand'] = test['title'].apply(lambda x: x.split(\" \")[0])\n"
   ]
  },
  {
   "cell_type": "code",
   "execution_count": 4,
   "id": "0a7d1f95",
   "metadata": {},
   "outputs": [
    {
     "data": {
      "text/plain": [
       "0    Toyota\n",
       "1    Toyota\n",
       "2      Land\n",
       "3     Lexus\n",
       "4    Toyota\n",
       "Name: brand, dtype: object"
      ]
     },
     "execution_count": 4,
     "metadata": {},
     "output_type": "execute_result"
    }
   ],
   "source": [
    "train.brand.head()"
   ]
  },
  {
   "cell_type": "code",
   "execution_count": 5,
   "id": "7f38d5ac",
   "metadata": {},
   "outputs": [
    {
     "data": {
      "text/plain": [
       "0    Mercedes-Benz\n",
       "1            Honda\n",
       "2    Mercedes-Benz\n",
       "3           Toyota\n",
       "4           Toyota\n",
       "Name: brand, dtype: object"
      ]
     },
     "execution_count": 5,
     "metadata": {},
     "output_type": "execute_result"
    }
   ],
   "source": [
    "test.brand.head()"
   ]
  },
  {
   "cell_type": "code",
   "execution_count": 6,
   "id": "d6c2959a",
   "metadata": {},
   "outputs": [
    {
     "data": {
      "text/plain": [
       "{'ALPINA',\n",
       " 'Acura',\n",
       " 'Audi',\n",
       " 'BMW',\n",
       " 'Bentley',\n",
       " 'Chevrolet',\n",
       " 'DAF',\n",
       " 'Dodge',\n",
       " 'Fiat',\n",
       " 'Ford',\n",
       " 'GAC',\n",
       " 'GMC',\n",
       " 'Honda',\n",
       " 'Hyundai',\n",
       " 'IVECO',\n",
       " 'IVM',\n",
       " 'Infiniti',\n",
       " 'Isuzu',\n",
       " 'Iveco',\n",
       " 'JMC',\n",
       " 'Jaguar',\n",
       " 'Jeep',\n",
       " 'Kia',\n",
       " 'Land',\n",
       " 'Lexus',\n",
       " 'Lincoln',\n",
       " 'MAN-VOLKSWAGEN',\n",
       " 'MINI',\n",
       " 'Mack',\n",
       " 'Man',\n",
       " 'Mazda',\n",
       " 'Mercedes-Benz',\n",
       " 'Mercedes-Benz/52',\n",
       " 'Mitsubishi',\n",
       " 'Nissan',\n",
       " 'Peugeot',\n",
       " 'Pontiac',\n",
       " 'Porsche',\n",
       " 'Rolls-Royce',\n",
       " 'Scania',\n",
       " 'Toyota',\n",
       " 'Volkswagen',\n",
       " 'Volvo'}"
      ]
     },
     "execution_count": 6,
     "metadata": {},
     "output_type": "execute_result"
    }
   ],
   "source": [
    "set(train.brand) | set(test.brand)"
   ]
  },
  {
   "cell_type": "code",
   "execution_count": 7,
   "id": "efae04fa",
   "metadata": {},
   "outputs": [],
   "source": [
    "train['brand'] = train['brand'].replace({'Mercedes-Benz/52' : 'Mercedes-Benz'})"
   ]
  },
  {
   "cell_type": "code",
   "execution_count": 8,
   "id": "49d9c353",
   "metadata": {},
   "outputs": [
    {
     "data": {
      "text/plain": [
       "{'Jaguar': 0,\n",
       " 'Rolls-Royce': 1,\n",
       " 'Toyota': 2,\n",
       " 'Nissan': 3,\n",
       " 'Mitsubishi': 4,\n",
       " 'Acura': 5,\n",
       " 'Man': 6,\n",
       " 'Dodge': 7,\n",
       " 'Audi': 8,\n",
       " 'Volkswagen': 9,\n",
       " 'JMC': 10,\n",
       " 'ALPINA': 11,\n",
       " 'Peugeot': 12,\n",
       " 'Land': 13,\n",
       " 'Lincoln': 14,\n",
       " 'Jeep': 15,\n",
       " 'Mack': 16,\n",
       " 'Fiat': 17,\n",
       " 'GAC': 18,\n",
       " 'GMC': 19,\n",
       " 'DAF': 20,\n",
       " 'Isuzu': 21,\n",
       " 'IVM': 22,\n",
       " 'MAN-VOLKSWAGEN': 23,\n",
       " 'Infiniti': 24,\n",
       " 'Scania': 25,\n",
       " 'Bentley': 26,\n",
       " 'BMW': 27,\n",
       " 'Porsche': 28,\n",
       " 'Iveco': 29,\n",
       " 'Honda': 30,\n",
       " 'IVECO': 31,\n",
       " 'Lexus': 32,\n",
       " 'Ford': 33,\n",
       " 'Mercedes-Benz': 34,\n",
       " 'Pontiac': 35,\n",
       " 'MINI': 36,\n",
       " 'Hyundai': 37,\n",
       " 'Chevrolet': 38,\n",
       " 'Mazda': 39,\n",
       " 'Volvo': 40,\n",
       " 'Kia': 41}"
      ]
     },
     "execution_count": 8,
     "metadata": {},
     "output_type": "execute_result"
    }
   ],
   "source": [
    "brand_label = {_brand : label for label, _brand in enumerate(set(set(train.brand)|set(test.brand)))}\n",
    "brand_label"
   ]
  },
  {
   "cell_type": "code",
   "execution_count": 9,
   "id": "7561afe8",
   "metadata": {},
   "outputs": [],
   "source": [
    "train['brand'] = train['brand'].replace(brand_label)\n",
    "test['brand'] = test['brand'].replace(brand_label)"
   ]
  },
  {
   "cell_type": "code",
   "execution_count": 10,
   "id": "a76ec62e",
   "metadata": {},
   "outputs": [
    {
     "data": {
      "text/plain": [
       "{'ALPINA B3',\n",
       " 'Acura MDX',\n",
       " 'Acura RDX',\n",
       " 'Acura TL',\n",
       " 'Acura TSX',\n",
       " 'Acura ZDX',\n",
       " 'Audi S6',\n",
       " 'BMW 325',\n",
       " 'BMW 335',\n",
       " 'BMW 525',\n",
       " 'BMW 528',\n",
       " 'BMW 535',\n",
       " 'BMW 730',\n",
       " 'BMW 740',\n",
       " 'BMW 745',\n",
       " 'BMW 750',\n",
       " 'BMW X3',\n",
       " 'BMW X6',\n",
       " 'Bentley Arnage',\n",
       " 'Chevrolet Camaro',\n",
       " 'Chevrolet Evanda',\n",
       " 'Chevrolet Traverse',\n",
       " 'DAF 45',\n",
       " 'DAF 95XF TRACTOR HEAD',\n",
       " 'DAF CF',\n",
       " 'DAF FA 55. 180',\n",
       " 'DAF XF TRACTOR HEAD',\n",
       " 'Dodge Charger',\n",
       " 'Fiat Ducato',\n",
       " 'Ford Edge',\n",
       " 'Ford Escape',\n",
       " 'Ford Expedition',\n",
       " 'Ford Explorer',\n",
       " 'Ford F 150',\n",
       " 'Ford Focus',\n",
       " 'Ford Fusion',\n",
       " 'Ford Mondeo',\n",
       " 'Ford Mustang',\n",
       " 'Ford TRANSIT PICKUP',\n",
       " 'Ford Transit',\n",
       " 'GAC Gonow Other',\n",
       " 'GMC Terrain',\n",
       " 'Honda Accord',\n",
       " 'Honda CR-V',\n",
       " 'Honda Civic',\n",
       " 'Honda Crosstour',\n",
       " 'Honda Element',\n",
       " 'Honda Fit',\n",
       " 'Honda Insight',\n",
       " 'Honda Odyssey',\n",
       " 'Honda Pilot',\n",
       " 'Honda Ridgeline',\n",
       " 'Hyundai Azera',\n",
       " 'Hyundai Elantra',\n",
       " 'Hyundai Santa Fe',\n",
       " 'Hyundai Sonata',\n",
       " 'Hyundai Tucson',\n",
       " 'Hyundai ix35',\n",
       " 'IVECO EUROTECH 7.50E-16',\n",
       " 'IVM LT35',\n",
       " 'Infiniti FX',\n",
       " 'Infiniti JX',\n",
       " 'Infiniti M35',\n",
       " 'Infiniti QX80',\n",
       " 'Isuzu CABSTER',\n",
       " 'Isuzu NQR',\n",
       " 'Iveco EUROCARGO 120e18',\n",
       " 'Iveco TRUCK',\n",
       " 'JMC Vigus',\n",
       " 'Jaguar X-Type',\n",
       " 'Jaguar XJ8',\n",
       " 'Jeep Cherokee',\n",
       " 'Jeep Wrangler',\n",
       " 'Kia Cerato',\n",
       " 'Kia Optima',\n",
       " 'Kia Picanto',\n",
       " 'Kia Rio',\n",
       " 'Kia Sorento',\n",
       " 'Kia Soul',\n",
       " 'Kia Stinger',\n",
       " 'Land Rover Discovery',\n",
       " 'Land Rover Range Rover',\n",
       " 'Land Rover Range Rover Evoque',\n",
       " 'Land Rover Range Rover Sport',\n",
       " 'Land Rover Range Rover Velar',\n",
       " 'Lexus CT 200h',\n",
       " 'Lexus ES 300',\n",
       " 'Lexus ES 330',\n",
       " 'Lexus ES 350',\n",
       " 'Lexus GS 300',\n",
       " 'Lexus GS 350',\n",
       " 'Lexus GX 460',\n",
       " 'Lexus GX 470',\n",
       " 'Lexus IS 250',\n",
       " 'Lexus LS 460',\n",
       " 'Lexus LX 570',\n",
       " 'Lexus RX 300',\n",
       " 'Lexus RX 330',\n",
       " 'Lexus RX 350',\n",
       " 'Lexus RX 400',\n",
       " 'Lincoln Mark',\n",
       " 'MAN-VOLKSWAGEN FLATBED',\n",
       " 'MINI Cooper',\n",
       " 'MINI Cooper Countryman',\n",
       " 'MINI Cooper Coupé',\n",
       " 'Mack CH613',\n",
       " 'Mack CH613 CONVENTIONAL CAB',\n",
       " 'Mack CXN613',\n",
       " 'Mack CXN613 CAB BEHIND ENGINE',\n",
       " 'Mack R-686ST',\n",
       " 'Man 26-403',\n",
       " 'Man BOCKMANN',\n",
       " 'Man Diesel 19.314 FILT-N',\n",
       " 'Man LE 8. 180 PLATFORM TRUCK',\n",
       " 'Man TGA 18.360',\n",
       " 'Man Truck 18.44',\n",
       " 'Mazda 323',\n",
       " 'Mazda 6',\n",
       " 'Mazda CX-9',\n",
       " 'Mazda Tribute',\n",
       " 'Mercedes-Benz 200',\n",
       " 'Mercedes-Benz 220',\n",
       " 'Mercedes-Benz 300',\n",
       " 'Mercedes-Benz 320',\n",
       " 'Mercedes-Benz 350',\n",
       " 'Mercedes-Benz 450',\n",
       " 'Mercedes-Benz 709 DB',\n",
       " 'Mercedes-Benz 814',\n",
       " 'Mercedes-Benz ATEGO',\n",
       " 'Mercedes-Benz C 180',\n",
       " 'Mercedes-Benz C 250',\n",
       " 'Mercedes-Benz C 300',\n",
       " 'Mercedes-Benz C 320',\n",
       " 'Mercedes-Benz C 350',\n",
       " 'Mercedes-Benz C 450 AMG',\n",
       " 'Mercedes-Benz C 63 AMG',\n",
       " 'Mercedes-Benz CABIN PLUS CHASSIS ONLY',\n",
       " 'Mercedes-Benz CLA 250',\n",
       " 'Mercedes-Benz CLS 500',\n",
       " 'Mercedes-Benz DUMP TRUCK',\n",
       " 'Mercedes-Benz E 200',\n",
       " 'Mercedes-Benz E 300',\n",
       " 'Mercedes-Benz E 320',\n",
       " 'Mercedes-Benz E 350',\n",
       " 'Mercedes-Benz E 550',\n",
       " 'Mercedes-Benz G 550',\n",
       " 'Mercedes-Benz G 63 AMG',\n",
       " 'Mercedes-Benz GL 450',\n",
       " 'Mercedes-Benz GLA 180',\n",
       " 'Mercedes-Benz GLA 250',\n",
       " 'Mercedes-Benz GLC 300',\n",
       " 'Mercedes-Benz GLE 350',\n",
       " 'Mercedes-Benz GLE 43 AMG',\n",
       " 'Mercedes-Benz GLE 450',\n",
       " 'Mercedes-Benz GLK 300',\n",
       " 'Mercedes-Benz GLK 350',\n",
       " 'Mercedes-Benz ML 320',\n",
       " 'Mercedes-Benz ML 350',\n",
       " 'Mercedes-Benz ML 430',\n",
       " 'Mercedes-Benz Maybach',\n",
       " 'Mercedes-Benz S 450',\n",
       " 'Mercedes-Benz S 550',\n",
       " 'Mercedes-Benz SL 400',\n",
       " 'Mercedes-Benz WATER TANKER',\n",
       " 'Mercedes-Benz/52',\n",
       " 'Mitsubishi CANTER PICK UP',\n",
       " 'Mitsubishi Eclipse',\n",
       " 'Mitsubishi Galant',\n",
       " 'Mitsubishi L200',\n",
       " 'Mitsubishi Montero',\n",
       " 'Mitsubishi Pajero',\n",
       " 'Nissan A',\n",
       " 'Nissan Altima',\n",
       " 'Nissan Cabstar',\n",
       " 'Nissan Frontier',\n",
       " 'Nissan INFINITI M90.150/2',\n",
       " 'Nissan Maxima',\n",
       " 'Nissan Murano',\n",
       " 'Nissan Pathfinder',\n",
       " 'Nissan Primera',\n",
       " 'Nissan Quest',\n",
       " 'Nissan Rogue',\n",
       " 'Nissan Sentra',\n",
       " 'Nissan Titan',\n",
       " 'Nissan Versa',\n",
       " 'Nissan X-Trail',\n",
       " 'Nissan Xterra',\n",
       " 'Peugeot 206',\n",
       " 'Peugeot 307',\n",
       " 'Peugeot 308',\n",
       " 'Peugeot 607',\n",
       " 'Pontiac Vibe',\n",
       " 'Porsche Cayenne',\n",
       " 'Porsche Macan',\n",
       " 'Porsche Panamera',\n",
       " 'Rolls-Royce Ghost',\n",
       " 'Scania P94 FLATBED',\n",
       " 'Scania TRACTOR HEAD',\n",
       " 'Toyota 4-Runner',\n",
       " 'Toyota Avalon',\n",
       " 'Toyota Avensis',\n",
       " 'Toyota C-HR',\n",
       " 'Toyota Camry',\n",
       " 'Toyota Coaster',\n",
       " 'Toyota Corolla',\n",
       " 'Toyota DYNA 200',\n",
       " 'Toyota Dyna',\n",
       " 'Toyota Hiace',\n",
       " 'Toyota Highlander',\n",
       " 'Toyota Hilux',\n",
       " 'Toyota Land Cruiser',\n",
       " 'Toyota Matrix',\n",
       " 'Toyota Prado',\n",
       " 'Toyota Prius',\n",
       " 'Toyota RAV 4',\n",
       " 'Toyota Sequoia',\n",
       " 'Toyota Sienna',\n",
       " 'Toyota Solara',\n",
       " 'Toyota Tacoma',\n",
       " 'Toyota Tundra',\n",
       " 'Toyota Venza',\n",
       " 'Toyota Vitz',\n",
       " 'Toyota Yaris',\n",
       " 'Volkswagen 17.22',\n",
       " 'Volkswagen Golf',\n",
       " 'Volkswagen Jetta',\n",
       " 'Volkswagen LT',\n",
       " 'Volkswagen Passat',\n",
       " 'Volkswagen Sharan',\n",
       " 'Volkswagen T4 Caravelle',\n",
       " 'Volkswagen T6 other',\n",
       " 'Volkswagen Tiguan',\n",
       " 'Volkswagen Touareg',\n",
       " 'Volvo FH12',\n",
       " 'Volvo FL12',\n",
       " 'Volvo FL6',\n",
       " 'Volvo FL7',\n",
       " 'Volvo S80',\n",
       " 'Volvo XC60',\n",
       " 'Volvo XC90'}"
      ]
     },
     "execution_count": 10,
     "metadata": {},
     "output_type": "execute_result"
    }
   ],
   "source": [
    "car_title = pd.concat([train.title, test.title], ignore_index = True)\n",
    "car_title = set(car_title)\n",
    "car_title"
   ]
  },
  {
   "cell_type": "code",
   "execution_count": 11,
   "id": "58d90345",
   "metadata": {},
   "outputs": [
    {
     "data": {
      "text/plain": [
       "{'Mercedes-Benz GLC 300': 0,\n",
       " 'Nissan X-Trail': 1,\n",
       " 'Peugeot 206': 2,\n",
       " 'GAC Gonow Other': 3,\n",
       " 'Mercedes-Benz C 350': 4,\n",
       " 'Mercedes-Benz E 300': 5,\n",
       " 'Acura RDX': 6,\n",
       " 'Volkswagen T4 Caravelle': 7,\n",
       " 'Mercedes-Benz 709 DB': 8,\n",
       " 'Kia Picanto': 9,\n",
       " 'Hyundai Azera': 10,\n",
       " 'Volvo FL7': 11,\n",
       " 'Mercedes-Benz G 550': 12,\n",
       " 'Nissan Murano': 13,\n",
       " 'Honda Civic': 14,\n",
       " 'Mercedes-Benz GLA 180': 15,\n",
       " 'Lincoln Mark': 16,\n",
       " 'Volvo FL6': 17,\n",
       " 'Acura MDX': 18,\n",
       " 'Man Truck 18.44': 19,\n",
       " 'Mercedes-Benz GL 450': 20,\n",
       " 'Volvo FL12': 21,\n",
       " 'Volkswagen Sharan': 22,\n",
       " 'DAF XF TRACTOR HEAD': 23,\n",
       " 'Mercedes-Benz C 250': 24,\n",
       " 'Man 26-403': 25,\n",
       " 'Nissan Pathfinder': 26,\n",
       " 'Lexus LX 570': 27,\n",
       " 'Volkswagen Touareg': 28,\n",
       " 'Hyundai Sonata': 29,\n",
       " 'Infiniti JX': 30,\n",
       " 'Toyota Hiace': 31,\n",
       " 'MINI Cooper': 32,\n",
       " 'Ford Mondeo': 33,\n",
       " 'Porsche Macan': 34,\n",
       " 'Bentley Arnage': 35,\n",
       " 'Scania TRACTOR HEAD': 36,\n",
       " 'Scania P94 FLATBED': 37,\n",
       " 'Mercedes-Benz GLK 300': 38,\n",
       " 'Pontiac Vibe': 39,\n",
       " 'Mercedes-Benz GLK 350': 40,\n",
       " 'Volvo XC90': 41,\n",
       " 'Volkswagen Jetta': 42,\n",
       " 'Lexus ES 300': 43,\n",
       " 'Mercedes-Benz DUMP TRUCK': 44,\n",
       " 'Jaguar XJ8': 45,\n",
       " 'Lexus LS 460': 46,\n",
       " 'Hyundai Elantra': 47,\n",
       " 'Isuzu CABSTER': 48,\n",
       " 'DAF CF': 49,\n",
       " 'Toyota Sienna': 50,\n",
       " 'MINI Cooper Countryman': 51,\n",
       " 'Honda Accord': 52,\n",
       " 'Kia Stinger': 53,\n",
       " 'GMC Terrain': 54,\n",
       " 'Volvo FH12': 55,\n",
       " 'Mazda Tribute': 56,\n",
       " 'Peugeot 307': 57,\n",
       " 'Jaguar X-Type': 58,\n",
       " 'Mitsubishi Eclipse': 59,\n",
       " 'Mercedes-Benz 450': 60,\n",
       " 'Mercedes-Benz GLA 250': 61,\n",
       " 'Man BOCKMANN': 62,\n",
       " 'Toyota Yaris': 63,\n",
       " 'Volvo XC60': 64,\n",
       " 'Lexus RX 400': 65,\n",
       " 'ALPINA B3': 66,\n",
       " 'Isuzu NQR': 67,\n",
       " 'IVECO EUROTECH 7.50E-16': 68,\n",
       " 'Nissan Titan': 69,\n",
       " 'Porsche Panamera': 70,\n",
       " 'Ford Edge': 71,\n",
       " 'Mercedes-Benz C 180': 72,\n",
       " 'Chevrolet Traverse': 73,\n",
       " 'Mercedes-Benz ML 320': 74,\n",
       " 'Nissan Versa': 75,\n",
       " 'Kia Sorento': 76,\n",
       " 'Ford Expedition': 77,\n",
       " 'Mercedes-Benz SL 400': 78,\n",
       " 'Mercedes-Benz 220': 79,\n",
       " 'Kia Cerato': 80,\n",
       " 'DAF 95XF TRACTOR HEAD': 81,\n",
       " 'Mitsubishi CANTER PICK UP': 82,\n",
       " 'Mercedes-Benz ATEGO': 83,\n",
       " 'Mercedes-Benz ML 430': 84,\n",
       " 'BMW X3': 85,\n",
       " 'Honda Insight': 86,\n",
       " 'Volvo S80': 87,\n",
       " 'Infiniti M35': 88,\n",
       " 'Toyota Solara': 89,\n",
       " 'Mercedes-Benz S 450': 90,\n",
       " 'Lexus RX 330': 91,\n",
       " 'Toyota Corolla': 92,\n",
       " 'Nissan Maxima': 93,\n",
       " 'Acura TL': 94,\n",
       " 'Jeep Wrangler': 95,\n",
       " 'Honda Odyssey': 96,\n",
       " 'Volkswagen T6 other': 97,\n",
       " 'Volkswagen Tiguan': 98,\n",
       " 'Toyota C-HR': 99,\n",
       " 'Man Diesel 19.314 FILT-N': 100,\n",
       " 'Kia Optima': 101,\n",
       " 'Mercedes-Benz CLA 250': 102,\n",
       " 'Nissan Sentra': 103,\n",
       " 'Man TGA 18.360': 104,\n",
       " 'Mercedes-Benz 300': 105,\n",
       " 'Mazda CX-9': 106,\n",
       " 'BMW 525': 107,\n",
       " 'Toyota 4-Runner': 108,\n",
       " 'Fiat Ducato': 109,\n",
       " 'Mitsubishi L200': 110,\n",
       " 'Mercedes-Benz E 320': 111,\n",
       " 'Toyota Tacoma': 112,\n",
       " 'Porsche Cayenne': 113,\n",
       " 'Toyota Venza': 114,\n",
       " 'Mercedes-Benz C 300': 115,\n",
       " 'Nissan INFINITI M90.150/2': 116,\n",
       " 'Toyota Vitz': 117,\n",
       " 'Ford TRANSIT PICKUP': 118,\n",
       " 'Mercedes-Benz GLE 350': 119,\n",
       " 'Lexus GS 350': 120,\n",
       " 'Lexus GX 470': 121,\n",
       " 'Rolls-Royce Ghost': 122,\n",
       " 'Mercedes-Benz ML 350': 123,\n",
       " 'Mercedes-Benz E 350': 124,\n",
       " 'MAN-VOLKSWAGEN FLATBED': 125,\n",
       " 'Audi S6': 126,\n",
       " 'Ford Transit': 127,\n",
       " 'Honda Crosstour': 128,\n",
       " 'Kia Rio': 129,\n",
       " 'Mack CXN613': 130,\n",
       " 'Ford Escape': 131,\n",
       " 'Lexus GX 460': 132,\n",
       " 'Hyundai ix35': 133,\n",
       " 'Mercedes-Benz CLS 500': 134,\n",
       " 'Mercedes-Benz GLE 450': 135,\n",
       " 'Ford Explorer': 136,\n",
       " 'DAF 45': 137,\n",
       " 'Lexus CT 200h': 138,\n",
       " 'Mack CH613 CONVENTIONAL CAB': 139,\n",
       " 'JMC Vigus': 140,\n",
       " 'Mack CXN613 CAB BEHIND ENGINE': 141,\n",
       " 'Lexus IS 250': 142,\n",
       " 'Honda Fit': 143,\n",
       " 'Mercedes-Benz S 550': 144,\n",
       " 'Mack CH613': 145,\n",
       " 'Iveco EUROCARGO 120e18': 146,\n",
       " 'Nissan Cabstar': 147,\n",
       " 'Volkswagen Golf': 148,\n",
       " 'Nissan Primera': 149,\n",
       " 'Ford F 150': 150,\n",
       " 'Mercedes-Benz E 550': 151,\n",
       " 'Toyota Coaster': 152,\n",
       " 'Volkswagen Passat': 153,\n",
       " 'Nissan Frontier': 154,\n",
       " 'Lexus ES 330': 155,\n",
       " 'Mercedes-Benz C 320': 156,\n",
       " 'Mazda 323': 157,\n",
       " 'Kia Soul': 158,\n",
       " 'Nissan A': 159,\n",
       " 'Mercedes-Benz C 450 AMG': 160,\n",
       " 'Mitsubishi Galant': 161,\n",
       " 'Nissan Xterra': 162,\n",
       " 'MINI Cooper Coupé': 163,\n",
       " 'Lexus ES 350': 164,\n",
       " 'Nissan Rogue': 165,\n",
       " 'Infiniti FX': 166,\n",
       " 'Toyota DYNA 200': 167,\n",
       " 'Toyota RAV 4': 168,\n",
       " 'BMW 730': 169,\n",
       " 'BMW 325': 170,\n",
       " 'Mercedes-Benz 350': 171,\n",
       " 'BMW 740': 172,\n",
       " 'IVM LT35': 173,\n",
       " 'Toyota Land Cruiser': 174,\n",
       " 'Mitsubishi Pajero': 175,\n",
       " 'Land Rover Range Rover Velar': 176,\n",
       " 'Honda Element': 177,\n",
       " 'Acura ZDX': 178,\n",
       " 'Land Rover Range Rover Evoque': 179,\n",
       " 'Mercedes-Benz GLE 43 AMG': 180,\n",
       " 'Mercedes-Benz 320': 181,\n",
       " 'Mercedes-Benz E 200': 182,\n",
       " 'Toyota Hilux': 183,\n",
       " 'Iveco TRUCK': 184,\n",
       " 'Toyota Sequoia': 185,\n",
       " 'Infiniti QX80': 186,\n",
       " 'Mitsubishi Montero': 187,\n",
       " 'Chevrolet Camaro': 188,\n",
       " 'Ford Mustang': 189,\n",
       " 'Mercedes-Benz 200': 190,\n",
       " 'DAF FA 55. 180': 191,\n",
       " 'Toyota Matrix': 192,\n",
       " 'Hyundai Tucson': 193,\n",
       " 'Ford Fusion': 194,\n",
       " 'Toyota Prado': 195,\n",
       " 'Mercedes-Benz Maybach': 196,\n",
       " 'Toyota Dyna': 197,\n",
       " 'Land Rover Discovery': 198,\n",
       " 'Nissan Quest': 199,\n",
       " 'Honda CR-V': 200,\n",
       " 'Toyota Avensis': 201,\n",
       " 'Mercedes-Benz/52': 202,\n",
       " 'Lexus RX 350': 203,\n",
       " 'Toyota Tundra': 204,\n",
       " 'Hyundai Santa Fe': 205,\n",
       " 'BMW 745': 206,\n",
       " 'BMW X6': 207,\n",
       " 'Volkswagen 17.22': 208,\n",
       " 'BMW 535': 209,\n",
       " 'Mercedes-Benz WATER TANKER': 210,\n",
       " 'Mazda 6': 211,\n",
       " 'Peugeot 607': 212,\n",
       " 'Toyota Avalon': 213,\n",
       " 'Land Rover Range Rover Sport': 214,\n",
       " 'Toyota Highlander': 215,\n",
       " 'Peugeot 308': 216,\n",
       " 'Mercedes-Benz C 63 AMG': 217,\n",
       " 'Ford Focus': 218,\n",
       " 'Toyota Camry': 219,\n",
       " 'Man LE 8. 180 PLATFORM TRUCK': 220,\n",
       " 'Dodge Charger': 221,\n",
       " 'BMW 335': 222,\n",
       " 'Lexus GS 300': 223,\n",
       " 'Mercedes-Benz CABIN PLUS CHASSIS ONLY': 224,\n",
       " 'BMW 750': 225,\n",
       " 'BMW 528': 226,\n",
       " 'Chevrolet Evanda': 227,\n",
       " 'Jeep Cherokee': 228,\n",
       " 'Nissan Altima': 229,\n",
       " 'Mercedes-Benz G 63 AMG': 230,\n",
       " 'Acura TSX': 231,\n",
       " 'Honda Pilot': 232,\n",
       " 'Mercedes-Benz 814': 233,\n",
       " 'Lexus RX 300': 234,\n",
       " 'Volkswagen LT': 235,\n",
       " 'Honda Ridgeline': 236,\n",
       " 'Mack R-686ST': 237,\n",
       " 'Toyota Prius': 238,\n",
       " 'Land Rover Range Rover': 239}"
      ]
     },
     "execution_count": 11,
     "metadata": {},
     "output_type": "execute_result"
    }
   ],
   "source": [
    "# label 생성을 위한 dictionary 생성\n",
    "car_title_label = {car_title : label for label, car_title in enumerate(car_title)}\n",
    "car_title_label"
   ]
  },
  {
   "cell_type": "code",
   "execution_count": 12,
   "id": "638c2d00",
   "metadata": {},
   "outputs": [],
   "source": [
    "# 생성된 dictionary를 이용하여 car title labeling\n",
    "train['title'] = train['title'].replace(car_title_label)\n",
    "test['title'] = test['title'].replace(car_title_label)\n"
   ]
  },
  {
   "cell_type": "code",
   "execution_count": 13,
   "id": "0dd1ec49",
   "metadata": {},
   "outputs": [
    {
     "data": {
      "text/html": [
       "<div>\n",
       "<style scoped>\n",
       "    .dataframe tbody tr th:only-of-type {\n",
       "        vertical-align: middle;\n",
       "    }\n",
       "\n",
       "    .dataframe tbody tr th {\n",
       "        vertical-align: top;\n",
       "    }\n",
       "\n",
       "    .dataframe thead th {\n",
       "        text-align: right;\n",
       "    }\n",
       "</style>\n",
       "<table border=\"1\" class=\"dataframe\">\n",
       "  <thead>\n",
       "    <tr style=\"text-align: right;\">\n",
       "      <th></th>\n",
       "      <th>id</th>\n",
       "      <th>title</th>\n",
       "      <th>odometer</th>\n",
       "      <th>location</th>\n",
       "      <th>isimported</th>\n",
       "      <th>engine</th>\n",
       "      <th>transmission</th>\n",
       "      <th>fuel</th>\n",
       "      <th>paint</th>\n",
       "      <th>year</th>\n",
       "      <th>target</th>\n",
       "      <th>brand</th>\n",
       "    </tr>\n",
       "  </thead>\n",
       "  <tbody>\n",
       "    <tr>\n",
       "      <th>0</th>\n",
       "      <td>0</td>\n",
       "      <td>168</td>\n",
       "      <td>18277</td>\n",
       "      <td>Lagos</td>\n",
       "      <td>Foreign Used</td>\n",
       "      <td>4-cylinder(I4)</td>\n",
       "      <td>automatic</td>\n",
       "      <td>petrol</td>\n",
       "      <td>Red</td>\n",
       "      <td>2016</td>\n",
       "      <td>13665000</td>\n",
       "      <td>2</td>\n",
       "    </tr>\n",
       "  </tbody>\n",
       "</table>\n",
       "</div>"
      ],
      "text/plain": [
       "   id  title  odometer location    isimported          engine transmission  \\\n",
       "0   0    168     18277   Lagos   Foreign Used  4-cylinder(I4)    automatic   \n",
       "\n",
       "     fuel paint  year    target  brand  \n",
       "0  petrol   Red  2016  13665000      2  "
      ]
     },
     "execution_count": 13,
     "metadata": {},
     "output_type": "execute_result"
    }
   ],
   "source": [
    "train.head(1)\n"
   ]
  },
  {
   "cell_type": "code",
   "execution_count": 14,
   "id": "00c076d0",
   "metadata": {},
   "outputs": [
    {
     "data": {
      "text/html": [
       "<div>\n",
       "<style scoped>\n",
       "    .dataframe tbody tr th:only-of-type {\n",
       "        vertical-align: middle;\n",
       "    }\n",
       "\n",
       "    .dataframe tbody tr th {\n",
       "        vertical-align: top;\n",
       "    }\n",
       "\n",
       "    .dataframe thead th {\n",
       "        text-align: right;\n",
       "    }\n",
       "</style>\n",
       "<table border=\"1\" class=\"dataframe\">\n",
       "  <thead>\n",
       "    <tr style=\"text-align: right;\">\n",
       "      <th></th>\n",
       "      <th>id</th>\n",
       "      <th>title</th>\n",
       "      <th>odometer</th>\n",
       "      <th>location</th>\n",
       "      <th>isimported</th>\n",
       "      <th>engine</th>\n",
       "      <th>transmission</th>\n",
       "      <th>fuel</th>\n",
       "      <th>paint</th>\n",
       "      <th>year</th>\n",
       "      <th>brand</th>\n",
       "    </tr>\n",
       "  </thead>\n",
       "  <tbody>\n",
       "    <tr>\n",
       "      <th>0</th>\n",
       "      <td>0</td>\n",
       "      <td>115</td>\n",
       "      <td>1234</td>\n",
       "      <td>Abuja</td>\n",
       "      <td>New</td>\n",
       "      <td>4-cylinder(I4)</td>\n",
       "      <td>automatic</td>\n",
       "      <td>petrol</td>\n",
       "      <td>White</td>\n",
       "      <td>2017</td>\n",
       "      <td>34</td>\n",
       "    </tr>\n",
       "  </tbody>\n",
       "</table>\n",
       "</div>"
      ],
      "text/plain": [
       "   id  title  odometer location isimported          engine transmission  \\\n",
       "0   0    115      1234    Abuja       New   4-cylinder(I4)    automatic   \n",
       "\n",
       "     fuel  paint  year  brand  \n",
       "0  petrol  White  2017     34  "
      ]
     },
     "execution_count": 14,
     "metadata": {},
     "output_type": "execute_result"
    }
   ],
   "source": [
    "test.head(1)\n"
   ]
  },
  {
   "cell_type": "code",
   "execution_count": 15,
   "id": "6f1d5cdc",
   "metadata": {},
   "outputs": [
    {
     "data": {
      "text/plain": [
       "array(['Lagos ', 'Lagos', 'Abuja', 'Lagos State', 'Ogun', 'FCT', 'Accra',\n",
       "       'other', 'Abuja ', 'Abia State', 'Adamawa ', 'Abia', 'Ogun State'],\n",
       "      dtype=object)"
      ]
     },
     "execution_count": 15,
     "metadata": {},
     "output_type": "execute_result"
    }
   ],
   "source": [
    "train.location.unique()"
   ]
  },
  {
   "cell_type": "code",
   "execution_count": 16,
   "id": "17432d08",
   "metadata": {},
   "outputs": [
    {
     "data": {
      "text/plain": [
       "array(['Abuja', 'Lagos', 'Lagos ', 'Ogun', 'Mushin', 'Lagos State',\n",
       "       'other', 'Abuja ', 'Arepo ogun state ', 'Ogun State', 'Abia'],\n",
       "      dtype=object)"
      ]
     },
     "execution_count": 16,
     "metadata": {},
     "output_type": "execute_result"
    }
   ],
   "source": [
    "test.location.unique()\n"
   ]
  },
  {
   "cell_type": "code",
   "execution_count": 17,
   "id": "dd3e862c",
   "metadata": {},
   "outputs": [],
   "source": [
    "train['location'] = train['location'].replace({\n",
    "    'Abia State' : 'Abia',\n",
    "    'Abuja ' : 'Abuja',\n",
    "    'Lagos ' : 'Lagos',\n",
    "    'Lagos State' : 'Lagos',\n",
    "    'Ogun State' : 'Ogun'\n",
    "    })"
   ]
  },
  {
   "cell_type": "code",
   "execution_count": 18,
   "id": "d2d680c5",
   "metadata": {},
   "outputs": [],
   "source": [
    "test['location'] = test['location'].replace({\n",
    "    'Abuja ' : 'Abuja',\n",
    "    'Lagos ' : 'Lagos',\n",
    "    'Lagos State' : 'Lagos',\n",
    "    'Ogun State' : 'Ogun',\n",
    "    'Arepo ogun state ' : 'Ogun'\n",
    "    # Arepo is a populated place located in Ogun State, Nigeria. 출처. 위키백과\n",
    "})"
   ]
  },
  {
   "cell_type": "code",
   "execution_count": 19,
   "id": "8b2c2522",
   "metadata": {},
   "outputs": [
    {
     "data": {
      "text/plain": [
       "array(['Lagos', 'Abuja', 'Ogun', 'FCT', 'Accra', 'other', 'Abia',\n",
       "       'Adamawa '], dtype=object)"
      ]
     },
     "execution_count": 19,
     "metadata": {},
     "output_type": "execute_result"
    }
   ],
   "source": [
    "train.location.unique()"
   ]
  },
  {
   "cell_type": "code",
   "execution_count": 20,
   "id": "dcb0059e",
   "metadata": {},
   "outputs": [
    {
     "data": {
      "text/plain": [
       "array(['Abuja', 'Lagos', 'Ogun', 'Mushin', 'other', 'Abia'], dtype=object)"
      ]
     },
     "execution_count": 20,
     "metadata": {},
     "output_type": "execute_result"
    }
   ],
   "source": [
    "test.location.unique()"
   ]
  },
  {
   "cell_type": "code",
   "execution_count": 21,
   "id": "de1181a5",
   "metadata": {},
   "outputs": [
    {
     "data": {
      "text/plain": [
       "{'Accra', 'Adamawa ', 'FCT', 'Mushin'}"
      ]
     },
     "execution_count": 21,
     "metadata": {},
     "output_type": "execute_result"
    }
   ],
   "source": [
    "set(set(train.location.unique()) | set(test.location.unique())) - set(set(train.location.unique()) & set(test.location.unique()))"
   ]
  },
  {
   "cell_type": "code",
   "execution_count": 22,
   "id": "e7fdbefa",
   "metadata": {},
   "outputs": [
    {
     "data": {
      "text/plain": [
       "array(['Lagos', 'Abuja', 'Ogun', 'other', 'Abia'], dtype=object)"
      ]
     },
     "execution_count": 22,
     "metadata": {},
     "output_type": "execute_result"
    }
   ],
   "source": [
    "train['location'] = train['location'].replace({\n",
    "    'Accra' : 'other',\n",
    "    'Adamawa ' : 'other',\n",
    "    'FCT' : 'other',\n",
    "    'Mushin' : 'other'\n",
    "})\n",
    "\n",
    "train.location.unique()\n"
   ]
  },
  {
   "cell_type": "code",
   "execution_count": 23,
   "id": "0e0b3a69",
   "metadata": {},
   "outputs": [
    {
     "data": {
      "text/plain": [
       "array(['Abuja', 'Lagos', 'Ogun', 'other', 'Abia'], dtype=object)"
      ]
     },
     "execution_count": 23,
     "metadata": {},
     "output_type": "execute_result"
    }
   ],
   "source": [
    "test['location'] = test['location'].replace({\n",
    "    'Accra' : 'other',\n",
    "    'Adamawa ' : 'other',\n",
    "    'FCT' : 'other',\n",
    "    'Mushin' : 'other'\n",
    "})\n",
    "\n",
    "test.location.unique()"
   ]
  },
  {
   "cell_type": "code",
   "execution_count": 24,
   "id": "ca0fac64",
   "metadata": {},
   "outputs": [
    {
     "data": {
      "text/plain": [
       "{'Lagos': 0, 'Abuja': 1, 'Ogun': 2, 'other': 3, 'Abia': 4}"
      ]
     },
     "execution_count": 24,
     "metadata": {},
     "output_type": "execute_result"
    }
   ],
   "source": [
    "location_label = {location : label for label, location in enumerate(train.location.unique())}\n",
    "location_label"
   ]
  },
  {
   "cell_type": "code",
   "execution_count": 25,
   "id": "5320ae8f",
   "metadata": {},
   "outputs": [],
   "source": [
    "train['location'] = train['location'].replace(location_label)\n",
    "test['location'] = test['location'].replace(location_label)"
   ]
  },
  {
   "cell_type": "code",
   "execution_count": 26,
   "id": "811a5818",
   "metadata": {},
   "outputs": [
    {
     "name": "stdout",
     "output_type": "stream",
     "text": [
      "train data에서 paint의 unique 카테고리 개수 :  51\n"
     ]
    }
   ],
   "source": [
    "import re \n",
    "\n",
    "def clean_text(texts): \n",
    "    corpus = [] \n",
    "    for i in range(0, len(texts)): \n",
    "        review = re.sub(r'[@%\\\\*=()/~#&\\+á?\\xc3\\xa1\\-\\|\\.\\:\\;\\!\\-\\,\\_\\~\\$\\'\\\"\\n\\]\\[\\>\\<]', '',texts[i]) #@%*=()/+ 와 같은 문장부호 제거\n",
    "        review = re.sub(r'\\d+','',review)#숫자 제거\n",
    "        review = review.lower() #소문자 변환\n",
    "        review = re.sub(r'\\s+', ' ', review) #extra space 제거\n",
    "        review = re.sub(r'<[^>]+>','',review) #Html tags 제거\n",
    "        review = re.sub(r'\\s+', ' ', review) #spaces 제거\n",
    "        review = re.sub(r\"^\\s+\", '', review) #space from start 제거\n",
    "        review = re.sub(r'\\s+$', '', review) #space from the end 제거\n",
    "        review = re.sub(r'_', ' ', review) #space from the end 제거\n",
    "        #review = re.sub(r'l', '', review)\n",
    "        corpus.append(review) \n",
    "        \n",
    "    return corpus\n",
    "\n",
    "train_paint = clean_text(train['paint']) #메소드 적용\n",
    "train['paint'] = train_paint\n",
    "print('train data에서 paint의 unique 카테고리 개수 : ', len(train['paint'].unique()))"
   ]
  },
  {
   "cell_type": "code",
   "execution_count": 27,
   "id": "43de31d5",
   "metadata": {},
   "outputs": [],
   "source": [
    "train['paint'] = train['paint'] = train['paint'].apply(lambda x : 'blue' if x.find('blue') >= 0 else x)\n",
    "train['paint'] = train['paint'] = train['paint'].apply(lambda x : 'red' if x.find('red') >= 0 else x)\n",
    "train['paint'] = train['paint'] = train['paint'].apply(lambda x : 'green' if x.find('green') >= 0 else x)\n",
    "train['paint'] = train['paint'] = train['paint'].apply(lambda x : 'white' if x.find('white') >= 0 else x)\n",
    "train['paint'] = train['paint'] = train['paint'].apply(lambda x : 'grey' if x.find('grey') >= 0 else x)\n",
    "train['paint'] = train['paint'] = train['paint'].apply(lambda x : 'grey' if x.find('gery') >= 0 else x)\n",
    "train['paint'] = train['paint'] = train['paint'].apply(lambda x : 'grey' if x.find('gray') >= 0 else x)\n",
    "train['paint'] = train['paint'] = train['paint'].apply(lambda x : 'ash' if x.find('ash') >= 0 else x)\n",
    "train['paint'] = train['paint'] = train['paint'].apply(lambda x : 'brown' if x.find('brown') >= 0 else x)\n",
    "train['paint'] = train['paint'] = train['paint'].apply(lambda x : 'silver' if x.find('silver') >= 0 else x)\n",
    "train['paint'] = train['paint'] = train['paint'].apply(lambda x : 'silver' if x.find('sliver') >= 0 else x)\n",
    "train['paint'] = train['paint'] = train['paint'].apply(lambda x : 'black' if x.find('black') >= 0 else x)\n",
    "train['paint'] = train['paint'] = train['paint'].apply(lambda x : 'gold' if x.find('gold') >= 0 else x)\n",
    "train['paint'] = train['paint'] = train['paint'].apply(lambda x : 'wine' if x.find('whine') >= 0 else x)"
   ]
  },
  {
   "cell_type": "code",
   "execution_count": 28,
   "id": "83d91375",
   "metadata": {},
   "outputs": [
    {
     "data": {
      "text/plain": [
       "array(['red', 'black', 'grey', 'white', 'blue', 'silver', 'brown',\n",
       "       'green', 'purple', 'gold', 'milk', 'beige', 'ash', 'orange',\n",
       "       'cream', 'yellow', 'wine', 'maroon'], dtype=object)"
      ]
     },
     "execution_count": 28,
     "metadata": {},
     "output_type": "execute_result"
    }
   ],
   "source": [
    "train.paint.unique()"
   ]
  },
  {
   "cell_type": "code",
   "execution_count": 29,
   "id": "cc4b0079",
   "metadata": {},
   "outputs": [
    {
     "name": "stdout",
     "output_type": "stream",
     "text": [
      "test data에서 paint의 unique 카테고리 개수 :  30\n"
     ]
    }
   ],
   "source": [
    "test_paint = clean_text(test['paint'])\n",
    "test['paint'] = test_paint\n",
    "print('test data에서 paint의 unique 카테고리 개수 : ', len(test['paint'].unique()))"
   ]
  },
  {
   "cell_type": "code",
   "execution_count": 30,
   "id": "fb87999c",
   "metadata": {},
   "outputs": [],
   "source": [
    "test['paint'] = test['paint'] = test['paint'].apply(lambda x : 'blue' if x.find('blue') >= 0 else x)\n",
    "test['paint'] = test['paint'] = test['paint'].apply(lambda x : 'red' if x.find('red') >= 0 else x)\n",
    "test['paint'] = test['paint'] = test['paint'].apply(lambda x : 'green' if x.find('green') >= 0 else x)\n",
    "test['paint'] = test['paint'] = test['paint'].apply(lambda x : 'white' if x.find('white') >= 0 else x)\n",
    "test['paint'] = test['paint'] = test['paint'].apply(lambda x : 'grey' if x.find('grey') >= 0 else x)\n",
    "test['paint'] = test['paint'] = test['paint'].apply(lambda x : 'grey' if x.find('gery') >= 0 else x)\n",
    "test['paint'] = test['paint'] = test['paint'].apply(lambda x : 'grey' if x.find('gray') >= 0 else x)\n",
    "test['paint'] = test['paint'] = test['paint'].apply(lambda x : 'ash' if x.find('ash') >= 0 else x)\n",
    "test['paint'] = test['paint'] = test['paint'].apply(lambda x : 'brown' if x.find('brown') >= 0 else x)\n",
    "test['paint'] = test['paint'] = test['paint'].apply(lambda x : 'silver' if x.find('silver') >= 0 else x)\n",
    "test['paint'] = test['paint'] = test['paint'].apply(lambda x : 'silver' if x.find('sliver') >= 0 else x)\n",
    "test['paint'] = test['paint'] = test['paint'].apply(lambda x : 'black' if x.find('black') >= 0 else x)\n",
    "test['paint'] = test['paint'] = test['paint'].apply(lambda x : 'black' if x.find('blac') >= 0 else x)\n",
    "test['paint'] = test['paint'] = test['paint'].apply(lambda x : 'gold' if x.find('gold') >= 0 else x)\n",
    "test['paint'] = test['paint'] = test['paint'].apply(lambda x : 'gold' if x.find('golf') >= 0 else x)\n",
    "test['paint'] = test['paint'] = test['paint'].apply(lambda x : 'wine' if x.find('whine') >= 0 else x)"
   ]
  },
  {
   "cell_type": "code",
   "execution_count": 31,
   "id": "1ad131b7",
   "metadata": {},
   "outputs": [
    {
     "data": {
      "text/plain": [
       "array(['white', 'black', 'grey', 'red', 'silver', 'blue', 'gold', 'green',\n",
       "       'cream', 'brown', 'yellow', 'maroon', 'wine', 'ash',\n",
       "       'indigo ink pearl', 'beige'], dtype=object)"
      ]
     },
     "execution_count": 31,
     "metadata": {},
     "output_type": "execute_result"
    }
   ],
   "source": [
    "test.paint.unique()"
   ]
  },
  {
   "cell_type": "code",
   "execution_count": 32,
   "id": "87dcad10",
   "metadata": {},
   "outputs": [],
   "source": [
    "paint_label = {_paint : label for label, _paint in enumerate(set(pd.concat([train.paint, test.paint])))}"
   ]
  },
  {
   "cell_type": "code",
   "execution_count": 33,
   "id": "c7102bf0",
   "metadata": {},
   "outputs": [
    {
     "data": {
      "text/plain": [
       "{'cream': 0,\n",
       " 'ash': 1,\n",
       " 'beige': 2,\n",
       " 'black': 3,\n",
       " 'white': 4,\n",
       " 'purple': 5,\n",
       " 'orange': 6,\n",
       " 'silver': 7,\n",
       " 'wine': 8,\n",
       " 'blue': 9,\n",
       " 'indigo ink pearl': 10,\n",
       " 'gold': 11,\n",
       " 'milk': 12,\n",
       " 'maroon': 13,\n",
       " 'red': 14,\n",
       " 'yellow': 15,\n",
       " 'brown': 16,\n",
       " 'green': 17,\n",
       " 'grey': 18}"
      ]
     },
     "execution_count": 33,
     "metadata": {},
     "output_type": "execute_result"
    }
   ],
   "source": [
    "paint_label"
   ]
  },
  {
   "cell_type": "code",
   "execution_count": 34,
   "id": "0978af28",
   "metadata": {},
   "outputs": [],
   "source": [
    "train['paint'] = train['paint'].replace(paint_label)\n",
    "test['paint'] = test['paint'].replace(paint_label)"
   ]
  },
  {
   "cell_type": "code",
   "execution_count": 35,
   "id": "1d13b9a8",
   "metadata": {},
   "outputs": [
    {
     "data": {
      "text/plain": [
       "{'12-cylinder(V12)', '4-cylinder(H4)'}"
      ]
     },
     "execution_count": 35,
     "metadata": {},
     "output_type": "execute_result"
    }
   ],
   "source": [
    "set(set(train.engine.unique()) | set(test.engine.unique())) - set(set(train.engine.unique()) & set(test.engine.unique()))"
   ]
  },
  {
   "cell_type": "code",
   "execution_count": 36,
   "id": "6d84d358",
   "metadata": {},
   "outputs": [
    {
     "data": {
      "text/html": [
       "<div>\n",
       "<style scoped>\n",
       "    .dataframe tbody tr th:only-of-type {\n",
       "        vertical-align: middle;\n",
       "    }\n",
       "\n",
       "    .dataframe tbody tr th {\n",
       "        vertical-align: top;\n",
       "    }\n",
       "\n",
       "    .dataframe thead th {\n",
       "        text-align: right;\n",
       "    }\n",
       "</style>\n",
       "<table border=\"1\" class=\"dataframe\">\n",
       "  <thead>\n",
       "    <tr style=\"text-align: right;\">\n",
       "      <th></th>\n",
       "      <th>id</th>\n",
       "      <th>title</th>\n",
       "      <th>odometer</th>\n",
       "      <th>location</th>\n",
       "      <th>isimported</th>\n",
       "      <th>engine</th>\n",
       "      <th>transmission</th>\n",
       "      <th>fuel</th>\n",
       "      <th>paint</th>\n",
       "      <th>year</th>\n",
       "      <th>target</th>\n",
       "      <th>brand</th>\n",
       "    </tr>\n",
       "  </thead>\n",
       "  <tbody>\n",
       "    <tr>\n",
       "      <th>327</th>\n",
       "      <td>327</td>\n",
       "      <td>219</td>\n",
       "      <td>3656</td>\n",
       "      <td>1</td>\n",
       "      <td>Foreign Used</td>\n",
       "      <td>4-cylinder(H4)</td>\n",
       "      <td>automatic</td>\n",
       "      <td>petrol</td>\n",
       "      <td>7</td>\n",
       "      <td>2020</td>\n",
       "      <td>20015000</td>\n",
       "      <td>2</td>\n",
       "    </tr>\n",
       "    <tr>\n",
       "      <th>830</th>\n",
       "      <td>830</td>\n",
       "      <td>52</td>\n",
       "      <td>152229</td>\n",
       "      <td>0</td>\n",
       "      <td>Foreign Used</td>\n",
       "      <td>4-cylinder(H4)</td>\n",
       "      <td>automatic</td>\n",
       "      <td>petrol</td>\n",
       "      <td>18</td>\n",
       "      <td>2007</td>\n",
       "      <td>2765000</td>\n",
       "      <td>30</td>\n",
       "    </tr>\n",
       "  </tbody>\n",
       "</table>\n",
       "</div>"
      ],
      "text/plain": [
       "      id  title  odometer  location    isimported          engine  \\\n",
       "327  327    219      3656         1  Foreign Used  4-cylinder(H4)   \n",
       "830  830     52    152229         0  Foreign Used  4-cylinder(H4)   \n",
       "\n",
       "    transmission    fuel  paint  year    target  brand  \n",
       "327    automatic  petrol      7  2020  20015000      2  \n",
       "830    automatic  petrol     18  2007   2765000     30  "
      ]
     },
     "execution_count": 36,
     "metadata": {},
     "output_type": "execute_result"
    }
   ],
   "source": [
    "train[train.engine == '4-cylinder(H4)']"
   ]
  },
  {
   "cell_type": "code",
   "execution_count": 37,
   "id": "5c9de731",
   "metadata": {},
   "outputs": [],
   "source": [
    "train = train.replace({'4-cylinder(H4)' : '4-cylinder(I4)'})"
   ]
  },
  {
   "cell_type": "code",
   "execution_count": 38,
   "id": "1627cac9",
   "metadata": {},
   "outputs": [
    {
     "data": {
      "text/html": [
       "<div>\n",
       "<style scoped>\n",
       "    .dataframe tbody tr th:only-of-type {\n",
       "        vertical-align: middle;\n",
       "    }\n",
       "\n",
       "    .dataframe tbody tr th {\n",
       "        vertical-align: top;\n",
       "    }\n",
       "\n",
       "    .dataframe thead th {\n",
       "        text-align: right;\n",
       "    }\n",
       "</style>\n",
       "<table border=\"1\" class=\"dataframe\">\n",
       "  <thead>\n",
       "    <tr style=\"text-align: right;\">\n",
       "      <th></th>\n",
       "      <th>id</th>\n",
       "      <th>title</th>\n",
       "      <th>odometer</th>\n",
       "      <th>location</th>\n",
       "      <th>isimported</th>\n",
       "      <th>engine</th>\n",
       "      <th>transmission</th>\n",
       "      <th>fuel</th>\n",
       "      <th>paint</th>\n",
       "      <th>year</th>\n",
       "      <th>target</th>\n",
       "      <th>brand</th>\n",
       "    </tr>\n",
       "  </thead>\n",
       "  <tbody>\n",
       "    <tr>\n",
       "      <th>327</th>\n",
       "      <td>327</td>\n",
       "      <td>219</td>\n",
       "      <td>3656</td>\n",
       "      <td>1</td>\n",
       "      <td>Foreign Used</td>\n",
       "      <td>4-cylinder(I4)</td>\n",
       "      <td>automatic</td>\n",
       "      <td>petrol</td>\n",
       "      <td>7</td>\n",
       "      <td>2020</td>\n",
       "      <td>20015000</td>\n",
       "      <td>2</td>\n",
       "    </tr>\n",
       "    <tr>\n",
       "      <th>830</th>\n",
       "      <td>830</td>\n",
       "      <td>52</td>\n",
       "      <td>152229</td>\n",
       "      <td>0</td>\n",
       "      <td>Foreign Used</td>\n",
       "      <td>4-cylinder(I4)</td>\n",
       "      <td>automatic</td>\n",
       "      <td>petrol</td>\n",
       "      <td>18</td>\n",
       "      <td>2007</td>\n",
       "      <td>2765000</td>\n",
       "      <td>30</td>\n",
       "    </tr>\n",
       "  </tbody>\n",
       "</table>\n",
       "</div>"
      ],
      "text/plain": [
       "      id  title  odometer  location    isimported          engine  \\\n",
       "327  327    219      3656         1  Foreign Used  4-cylinder(I4)   \n",
       "830  830     52    152229         0  Foreign Used  4-cylinder(I4)   \n",
       "\n",
       "    transmission    fuel  paint  year    target  brand  \n",
       "327    automatic  petrol      7  2020  20015000      2  \n",
       "830    automatic  petrol     18  2007   2765000     30  "
      ]
     },
     "execution_count": 38,
     "metadata": {},
     "output_type": "execute_result"
    }
   ],
   "source": [
    "train.iloc[[327, 830]]"
   ]
  },
  {
   "cell_type": "code",
   "execution_count": 39,
   "id": "54fcd4b1",
   "metadata": {},
   "outputs": [
    {
     "data": {
      "text/html": [
       "<div>\n",
       "<style scoped>\n",
       "    .dataframe tbody tr th:only-of-type {\n",
       "        vertical-align: middle;\n",
       "    }\n",
       "\n",
       "    .dataframe tbody tr th {\n",
       "        vertical-align: top;\n",
       "    }\n",
       "\n",
       "    .dataframe thead th {\n",
       "        text-align: right;\n",
       "    }\n",
       "</style>\n",
       "<table border=\"1\" class=\"dataframe\">\n",
       "  <thead>\n",
       "    <tr style=\"text-align: right;\">\n",
       "      <th></th>\n",
       "      <th>id</th>\n",
       "      <th>title</th>\n",
       "      <th>odometer</th>\n",
       "      <th>location</th>\n",
       "      <th>isimported</th>\n",
       "      <th>engine</th>\n",
       "      <th>transmission</th>\n",
       "      <th>fuel</th>\n",
       "      <th>paint</th>\n",
       "      <th>year</th>\n",
       "      <th>brand</th>\n",
       "    </tr>\n",
       "  </thead>\n",
       "  <tbody>\n",
       "    <tr>\n",
       "      <th>142</th>\n",
       "      <td>142</td>\n",
       "      <td>196</td>\n",
       "      <td>6758</td>\n",
       "      <td>0</td>\n",
       "      <td>New</td>\n",
       "      <td>12-cylinder(V12)</td>\n",
       "      <td>automatic</td>\n",
       "      <td>petrol</td>\n",
       "      <td>3</td>\n",
       "      <td>2019</td>\n",
       "      <td>34</td>\n",
       "    </tr>\n",
       "  </tbody>\n",
       "</table>\n",
       "</div>"
      ],
      "text/plain": [
       "      id  title  odometer  location isimported            engine transmission  \\\n",
       "142  142    196      6758         0       New   12-cylinder(V12)    automatic   \n",
       "\n",
       "       fuel  paint  year  brand  \n",
       "142  petrol      3  2019     34  "
      ]
     },
     "execution_count": 39,
     "metadata": {},
     "output_type": "execute_result"
    }
   ],
   "source": [
    "test[test.engine == '12-cylinder(V12)']"
   ]
  },
  {
   "cell_type": "code",
   "execution_count": 40,
   "id": "0c194320",
   "metadata": {},
   "outputs": [],
   "source": [
    "test = test.replace({'12-cylinder(V12)' : '8-cylinder(V8)'})"
   ]
  },
  {
   "cell_type": "code",
   "execution_count": 41,
   "id": "0a65b421",
   "metadata": {},
   "outputs": [
    {
     "data": {
      "text/html": [
       "<div>\n",
       "<style scoped>\n",
       "    .dataframe tbody tr th:only-of-type {\n",
       "        vertical-align: middle;\n",
       "    }\n",
       "\n",
       "    .dataframe tbody tr th {\n",
       "        vertical-align: top;\n",
       "    }\n",
       "\n",
       "    .dataframe thead th {\n",
       "        text-align: right;\n",
       "    }\n",
       "</style>\n",
       "<table border=\"1\" class=\"dataframe\">\n",
       "  <thead>\n",
       "    <tr style=\"text-align: right;\">\n",
       "      <th></th>\n",
       "      <th>id</th>\n",
       "      <th>title</th>\n",
       "      <th>odometer</th>\n",
       "      <th>location</th>\n",
       "      <th>isimported</th>\n",
       "      <th>engine</th>\n",
       "      <th>transmission</th>\n",
       "      <th>fuel</th>\n",
       "      <th>paint</th>\n",
       "      <th>year</th>\n",
       "      <th>brand</th>\n",
       "    </tr>\n",
       "  </thead>\n",
       "  <tbody>\n",
       "    <tr>\n",
       "      <th>142</th>\n",
       "      <td>142</td>\n",
       "      <td>196</td>\n",
       "      <td>6758</td>\n",
       "      <td>0</td>\n",
       "      <td>New</td>\n",
       "      <td>8-cylinder(V8)</td>\n",
       "      <td>automatic</td>\n",
       "      <td>petrol</td>\n",
       "      <td>3</td>\n",
       "      <td>2019</td>\n",
       "      <td>34</td>\n",
       "    </tr>\n",
       "  </tbody>\n",
       "</table>\n",
       "</div>"
      ],
      "text/plain": [
       "      id  title  odometer  location isimported          engine transmission  \\\n",
       "142  142    196      6758         0       New   8-cylinder(V8)    automatic   \n",
       "\n",
       "       fuel  paint  year  brand  \n",
       "142  petrol      3  2019     34  "
      ]
     },
     "execution_count": 41,
     "metadata": {},
     "output_type": "execute_result"
    }
   ],
   "source": [
    "test.iloc[[142]]"
   ]
  },
  {
   "cell_type": "code",
   "execution_count": 42,
   "id": "750ffc13",
   "metadata": {},
   "outputs": [
    {
     "data": {
      "text/plain": [
       "{'3-cylinder(I3)': 0,\n",
       " '4-cylinder(I4)': 1,\n",
       " '8-cylinder(V8)': 2,\n",
       " '6-cylinder(V6)': 3,\n",
       " '6-cylinder(I6)': 4,\n",
       " '2-cylinder(I2)': 5,\n",
       " '5-cylinder(I5)': 6}"
      ]
     },
     "execution_count": 42,
     "metadata": {},
     "output_type": "execute_result"
    }
   ],
   "source": [
    "engine_label = {_engine : label for label, _engine in enumerate(set(pd.concat([train.engine, test.engine])))}\n",
    "engine_label"
   ]
  },
  {
   "cell_type": "code",
   "execution_count": 43,
   "id": "0b941cef",
   "metadata": {},
   "outputs": [],
   "source": [
    "train = train.replace(engine_label)\n",
    "test = test.replace(engine_label)"
   ]
  },
  {
   "cell_type": "code",
   "execution_count": 44,
   "id": "410a8005",
   "metadata": {},
   "outputs": [
    {
     "data": {
      "text/html": [
       "<div>\n",
       "<style scoped>\n",
       "    .dataframe tbody tr th:only-of-type {\n",
       "        vertical-align: middle;\n",
       "    }\n",
       "\n",
       "    .dataframe tbody tr th {\n",
       "        vertical-align: top;\n",
       "    }\n",
       "\n",
       "    .dataframe thead th {\n",
       "        text-align: right;\n",
       "    }\n",
       "</style>\n",
       "<table border=\"1\" class=\"dataframe\">\n",
       "  <thead>\n",
       "    <tr style=\"text-align: right;\">\n",
       "      <th></th>\n",
       "      <th>id</th>\n",
       "      <th>title</th>\n",
       "      <th>odometer</th>\n",
       "      <th>location</th>\n",
       "      <th>isimported</th>\n",
       "      <th>engine</th>\n",
       "      <th>transmission</th>\n",
       "      <th>fuel</th>\n",
       "      <th>paint</th>\n",
       "      <th>year</th>\n",
       "      <th>target</th>\n",
       "      <th>brand</th>\n",
       "    </tr>\n",
       "  </thead>\n",
       "  <tbody>\n",
       "    <tr>\n",
       "      <th>415</th>\n",
       "      <td>415</td>\n",
       "      <td>83</td>\n",
       "      <td>403461</td>\n",
       "      <td>0</td>\n",
       "      <td>Locally used</td>\n",
       "      <td>1</td>\n",
       "      <td>manual</td>\n",
       "      <td>diesel</td>\n",
       "      <td>4</td>\n",
       "      <td>1218</td>\n",
       "      <td>6015000</td>\n",
       "      <td>34</td>\n",
       "    </tr>\n",
       "    <tr>\n",
       "      <th>827</th>\n",
       "      <td>827</td>\n",
       "      <td>202</td>\n",
       "      <td>510053</td>\n",
       "      <td>0</td>\n",
       "      <td>Locally used</td>\n",
       "      <td>3</td>\n",
       "      <td>manual</td>\n",
       "      <td>diesel</td>\n",
       "      <td>4</td>\n",
       "      <td>1217</td>\n",
       "      <td>75015000</td>\n",
       "      <td>34</td>\n",
       "    </tr>\n",
       "  </tbody>\n",
       "</table>\n",
       "</div>"
      ],
      "text/plain": [
       "      id  title  odometer  location    isimported  engine transmission  \\\n",
       "415  415     83    403461         0  Locally used       1       manual   \n",
       "827  827    202    510053         0  Locally used       3       manual   \n",
       "\n",
       "       fuel  paint  year    target  brand  \n",
       "415  diesel      4  1218   6015000     34  \n",
       "827  diesel      4  1217  75015000     34  "
      ]
     },
     "execution_count": 44,
     "metadata": {},
     "output_type": "execute_result"
    }
   ],
   "source": [
    "train[(train.year == 1217) | (train.year == 1218)]"
   ]
  },
  {
   "cell_type": "code",
   "execution_count": 45,
   "id": "b3d68214",
   "metadata": {},
   "outputs": [
    {
     "data": {
      "text/html": [
       "<div>\n",
       "<style scoped>\n",
       "    .dataframe tbody tr th:only-of-type {\n",
       "        vertical-align: middle;\n",
       "    }\n",
       "\n",
       "    .dataframe tbody tr th {\n",
       "        vertical-align: top;\n",
       "    }\n",
       "\n",
       "    .dataframe thead th {\n",
       "        text-align: right;\n",
       "    }\n",
       "</style>\n",
       "<table border=\"1\" class=\"dataframe\">\n",
       "  <thead>\n",
       "    <tr style=\"text-align: right;\">\n",
       "      <th></th>\n",
       "      <th>id</th>\n",
       "      <th>title</th>\n",
       "      <th>odometer</th>\n",
       "      <th>location</th>\n",
       "      <th>isimported</th>\n",
       "      <th>engine</th>\n",
       "      <th>transmission</th>\n",
       "      <th>fuel</th>\n",
       "      <th>paint</th>\n",
       "      <th>year</th>\n",
       "      <th>brand</th>\n",
       "    </tr>\n",
       "  </thead>\n",
       "  <tbody>\n",
       "    <tr>\n",
       "      <th>304</th>\n",
       "      <td>304</td>\n",
       "      <td>224</td>\n",
       "      <td>650923</td>\n",
       "      <td>0</td>\n",
       "      <td>Locally used</td>\n",
       "      <td>3</td>\n",
       "      <td>manual</td>\n",
       "      <td>diesel</td>\n",
       "      <td>9</td>\n",
       "      <td>1324</td>\n",
       "      <td>34</td>\n",
       "    </tr>\n",
       "    <tr>\n",
       "      <th>406</th>\n",
       "      <td>406</td>\n",
       "      <td>44</td>\n",
       "      <td>0</td>\n",
       "      <td>0</td>\n",
       "      <td>Locally used</td>\n",
       "      <td>2</td>\n",
       "      <td>manual</td>\n",
       "      <td>diesel</td>\n",
       "      <td>4</td>\n",
       "      <td>2626</td>\n",
       "      <td>34</td>\n",
       "    </tr>\n",
       "    <tr>\n",
       "      <th>411</th>\n",
       "      <td>411</td>\n",
       "      <td>210</td>\n",
       "      <td>701934</td>\n",
       "      <td>0</td>\n",
       "      <td>Locally used</td>\n",
       "      <td>2</td>\n",
       "      <td>manual</td>\n",
       "      <td>diesel</td>\n",
       "      <td>4</td>\n",
       "      <td>1726</td>\n",
       "      <td>34</td>\n",
       "    </tr>\n",
       "  </tbody>\n",
       "</table>\n",
       "</div>"
      ],
      "text/plain": [
       "      id  title  odometer  location    isimported  engine transmission  \\\n",
       "304  304    224    650923         0  Locally used       3       manual   \n",
       "406  406     44         0         0  Locally used       2       manual   \n",
       "411  411    210    701934         0  Locally used       2       manual   \n",
       "\n",
       "       fuel  paint  year  brand  \n",
       "304  diesel      9  1324     34  \n",
       "406  diesel      4  2626     34  \n",
       "411  diesel      4  1726     34  "
      ]
     },
     "execution_count": 45,
     "metadata": {},
     "output_type": "execute_result"
    }
   ],
   "source": [
    "test[(test.year == 1324) | (test.year == 1726) | (test.year == 2626)]"
   ]
  },
  {
   "cell_type": "code",
   "execution_count": 46,
   "id": "d6ff78de",
   "metadata": {},
   "outputs": [],
   "source": [
    "train['year'] = train['year'].replace([1218, 1217], [2010, 2010])\n",
    "test['year'] = test['year'].replace([1324, 1726, 2626], [2010, 2010, 2020])"
   ]
  },
  {
   "cell_type": "code",
   "execution_count": 47,
   "id": "0c0b8289",
   "metadata": {},
   "outputs": [],
   "source": [
    "isimported_label = {'Foreign Used': 0, 'Locally used' : 1, 'New ' : 2}\n",
    "transmission_label = {'automatic' : 0, 'manual' : 1}\n",
    "fuel_label = {'petrol' : 0, 'diesel' : 1}"
   ]
  },
  {
   "cell_type": "code",
   "execution_count": 48,
   "id": "fa231efe",
   "metadata": {},
   "outputs": [],
   "source": [
    "train['isimported'] = train['isimported'].replace(isimported_label)\n",
    "test['isimported'] = test['isimported'].replace(isimported_label)\n",
    "\n",
    "train['transmission'] = train['transmission'].replace(transmission_label)\n",
    "test['transmission'] = test['transmission'].replace(transmission_label)\n",
    "\n",
    "train['fuel'] = train['fuel'].replace(fuel_label)\n",
    "test['fuel'] = test['fuel'].replace(fuel_label)"
   ]
  },
  {
   "cell_type": "code",
   "execution_count": 49,
   "id": "ed425c2f",
   "metadata": {},
   "outputs": [
    {
     "data": {
      "text/html": [
       "<div>\n",
       "<style scoped>\n",
       "    .dataframe tbody tr th:only-of-type {\n",
       "        vertical-align: middle;\n",
       "    }\n",
       "\n",
       "    .dataframe tbody tr th {\n",
       "        vertical-align: top;\n",
       "    }\n",
       "\n",
       "    .dataframe thead th {\n",
       "        text-align: right;\n",
       "    }\n",
       "</style>\n",
       "<table border=\"1\" class=\"dataframe\">\n",
       "  <thead>\n",
       "    <tr style=\"text-align: right;\">\n",
       "      <th></th>\n",
       "      <th>id</th>\n",
       "      <th>title</th>\n",
       "      <th>odometer</th>\n",
       "      <th>location</th>\n",
       "      <th>isimported</th>\n",
       "      <th>engine</th>\n",
       "      <th>transmission</th>\n",
       "      <th>fuel</th>\n",
       "      <th>paint</th>\n",
       "      <th>year</th>\n",
       "      <th>target</th>\n",
       "      <th>brand</th>\n",
       "    </tr>\n",
       "  </thead>\n",
       "  <tbody>\n",
       "    <tr>\n",
       "      <th>0</th>\n",
       "      <td>0</td>\n",
       "      <td>168</td>\n",
       "      <td>18277</td>\n",
       "      <td>0</td>\n",
       "      <td>0</td>\n",
       "      <td>1</td>\n",
       "      <td>0</td>\n",
       "      <td>0</td>\n",
       "      <td>14</td>\n",
       "      <td>2016</td>\n",
       "      <td>13665000</td>\n",
       "      <td>2</td>\n",
       "    </tr>\n",
       "    <tr>\n",
       "      <th>1</th>\n",
       "      <td>1</td>\n",
       "      <td>174</td>\n",
       "      <td>10</td>\n",
       "      <td>0</td>\n",
       "      <td>2</td>\n",
       "      <td>1</td>\n",
       "      <td>0</td>\n",
       "      <td>0</td>\n",
       "      <td>3</td>\n",
       "      <td>2019</td>\n",
       "      <td>33015000</td>\n",
       "      <td>2</td>\n",
       "    </tr>\n",
       "    <tr>\n",
       "      <th>2</th>\n",
       "      <td>2</td>\n",
       "      <td>179</td>\n",
       "      <td>83091</td>\n",
       "      <td>0</td>\n",
       "      <td>0</td>\n",
       "      <td>3</td>\n",
       "      <td>0</td>\n",
       "      <td>0</td>\n",
       "      <td>14</td>\n",
       "      <td>2012</td>\n",
       "      <td>9915000</td>\n",
       "      <td>13</td>\n",
       "    </tr>\n",
       "    <tr>\n",
       "      <th>3</th>\n",
       "      <td>3</td>\n",
       "      <td>164</td>\n",
       "      <td>91524</td>\n",
       "      <td>0</td>\n",
       "      <td>0</td>\n",
       "      <td>1</td>\n",
       "      <td>0</td>\n",
       "      <td>0</td>\n",
       "      <td>18</td>\n",
       "      <td>2007</td>\n",
       "      <td>3815000</td>\n",
       "      <td>32</td>\n",
       "    </tr>\n",
       "    <tr>\n",
       "      <th>4</th>\n",
       "      <td>4</td>\n",
       "      <td>114</td>\n",
       "      <td>94177</td>\n",
       "      <td>0</td>\n",
       "      <td>0</td>\n",
       "      <td>3</td>\n",
       "      <td>0</td>\n",
       "      <td>0</td>\n",
       "      <td>14</td>\n",
       "      <td>2010</td>\n",
       "      <td>7385000</td>\n",
       "      <td>2</td>\n",
       "    </tr>\n",
       "  </tbody>\n",
       "</table>\n",
       "</div>"
      ],
      "text/plain": [
       "   id  title  odometer  location  isimported  engine  transmission  fuel  \\\n",
       "0   0    168     18277         0           0       1             0     0   \n",
       "1   1    174        10         0           2       1             0     0   \n",
       "2   2    179     83091         0           0       3             0     0   \n",
       "3   3    164     91524         0           0       1             0     0   \n",
       "4   4    114     94177         0           0       3             0     0   \n",
       "\n",
       "   paint  year    target  brand  \n",
       "0     14  2016  13665000      2  \n",
       "1      3  2019  33015000      2  \n",
       "2     14  2012   9915000     13  \n",
       "3     18  2007   3815000     32  \n",
       "4     14  2010   7385000      2  "
      ]
     },
     "execution_count": 49,
     "metadata": {},
     "output_type": "execute_result"
    }
   ],
   "source": [
    "train.head()"
   ]
  },
  {
   "cell_type": "code",
   "execution_count": 50,
   "id": "b92c1bc3",
   "metadata": {},
   "outputs": [
    {
     "data": {
      "text/html": [
       "<div>\n",
       "<style scoped>\n",
       "    .dataframe tbody tr th:only-of-type {\n",
       "        vertical-align: middle;\n",
       "    }\n",
       "\n",
       "    .dataframe tbody tr th {\n",
       "        vertical-align: top;\n",
       "    }\n",
       "\n",
       "    .dataframe thead th {\n",
       "        text-align: right;\n",
       "    }\n",
       "</style>\n",
       "<table border=\"1\" class=\"dataframe\">\n",
       "  <thead>\n",
       "    <tr style=\"text-align: right;\">\n",
       "      <th></th>\n",
       "      <th>id</th>\n",
       "      <th>title</th>\n",
       "      <th>odometer</th>\n",
       "      <th>location</th>\n",
       "      <th>isimported</th>\n",
       "      <th>engine</th>\n",
       "      <th>transmission</th>\n",
       "      <th>fuel</th>\n",
       "      <th>paint</th>\n",
       "      <th>year</th>\n",
       "      <th>brand</th>\n",
       "    </tr>\n",
       "  </thead>\n",
       "  <tbody>\n",
       "    <tr>\n",
       "      <th>0</th>\n",
       "      <td>0</td>\n",
       "      <td>115</td>\n",
       "      <td>1234</td>\n",
       "      <td>1</td>\n",
       "      <td>2</td>\n",
       "      <td>1</td>\n",
       "      <td>0</td>\n",
       "      <td>0</td>\n",
       "      <td>4</td>\n",
       "      <td>2017</td>\n",
       "      <td>34</td>\n",
       "    </tr>\n",
       "    <tr>\n",
       "      <th>1</th>\n",
       "      <td>1</td>\n",
       "      <td>52</td>\n",
       "      <td>29938</td>\n",
       "      <td>1</td>\n",
       "      <td>0</td>\n",
       "      <td>1</td>\n",
       "      <td>0</td>\n",
       "      <td>0</td>\n",
       "      <td>4</td>\n",
       "      <td>2013</td>\n",
       "      <td>30</td>\n",
       "    </tr>\n",
       "    <tr>\n",
       "      <th>2</th>\n",
       "      <td>2</td>\n",
       "      <td>144</td>\n",
       "      <td>87501</td>\n",
       "      <td>0</td>\n",
       "      <td>0</td>\n",
       "      <td>1</td>\n",
       "      <td>0</td>\n",
       "      <td>0</td>\n",
       "      <td>3</td>\n",
       "      <td>2012</td>\n",
       "      <td>34</td>\n",
       "    </tr>\n",
       "    <tr>\n",
       "      <th>3</th>\n",
       "      <td>3</td>\n",
       "      <td>50</td>\n",
       "      <td>180894</td>\n",
       "      <td>0</td>\n",
       "      <td>1</td>\n",
       "      <td>3</td>\n",
       "      <td>0</td>\n",
       "      <td>0</td>\n",
       "      <td>18</td>\n",
       "      <td>2001</td>\n",
       "      <td>2</td>\n",
       "    </tr>\n",
       "    <tr>\n",
       "      <th>4</th>\n",
       "      <td>4</td>\n",
       "      <td>31</td>\n",
       "      <td>104814</td>\n",
       "      <td>0</td>\n",
       "      <td>0</td>\n",
       "      <td>1</td>\n",
       "      <td>0</td>\n",
       "      <td>0</td>\n",
       "      <td>4</td>\n",
       "      <td>2000</td>\n",
       "      <td>2</td>\n",
       "    </tr>\n",
       "  </tbody>\n",
       "</table>\n",
       "</div>"
      ],
      "text/plain": [
       "   id  title  odometer  location  isimported  engine  transmission  fuel  \\\n",
       "0   0    115      1234         1           2       1             0     0   \n",
       "1   1     52     29938         1           0       1             0     0   \n",
       "2   2    144     87501         0           0       1             0     0   \n",
       "3   3     50    180894         0           1       3             0     0   \n",
       "4   4     31    104814         0           0       1             0     0   \n",
       "\n",
       "   paint  year  brand  \n",
       "0      4  2017     34  \n",
       "1      4  2013     30  \n",
       "2      3  2012     34  \n",
       "3     18  2001      2  \n",
       "4      4  2000      2  "
      ]
     },
     "execution_count": 50,
     "metadata": {},
     "output_type": "execute_result"
    }
   ],
   "source": [
    "test.head()"
   ]
  },
  {
   "cell_type": "code",
   "execution_count": 51,
   "id": "f02b1cc9",
   "metadata": {},
   "outputs": [],
   "source": [
    "from sklearn.linear_model import LinearRegression\n",
    "\n",
    "model = LinearRegression()"
   ]
  },
  {
   "cell_type": "code",
   "execution_count": 52,
   "id": "3c05f1ff",
   "metadata": {},
   "outputs": [],
   "source": [
    "train_X = train.drop(['id', 'target'], axis = 1)\n",
    "train_y = train.target\n",
    "\n",
    "test_X = test.drop(['id'], axis = 1)"
   ]
  },
  {
   "cell_type": "code",
   "execution_count": 53,
   "id": "0ea70dcf",
   "metadata": {},
   "outputs": [
    {
     "data": {
      "text/plain": [
       "LinearRegression()"
      ]
     },
     "execution_count": 53,
     "metadata": {},
     "output_type": "execute_result"
    }
   ],
   "source": [
    "model.fit(train_X, train_y)"
   ]
  },
  {
   "cell_type": "code",
   "execution_count": 54,
   "id": "7c8d0857",
   "metadata": {},
   "outputs": [],
   "source": [
    "pred = model.predict(test_X)"
   ]
  },
  {
   "cell_type": "code",
   "execution_count": 55,
   "id": "c3f04952",
   "metadata": {},
   "outputs": [
    {
     "data": {
      "text/html": [
       "<div>\n",
       "<style scoped>\n",
       "    .dataframe tbody tr th:only-of-type {\n",
       "        vertical-align: middle;\n",
       "    }\n",
       "\n",
       "    .dataframe tbody tr th {\n",
       "        vertical-align: top;\n",
       "    }\n",
       "\n",
       "    .dataframe thead th {\n",
       "        text-align: right;\n",
       "    }\n",
       "</style>\n",
       "<table border=\"1\" class=\"dataframe\">\n",
       "  <thead>\n",
       "    <tr style=\"text-align: right;\">\n",
       "      <th></th>\n",
       "      <th>id</th>\n",
       "      <th>target</th>\n",
       "    </tr>\n",
       "  </thead>\n",
       "  <tbody>\n",
       "    <tr>\n",
       "      <th>0</th>\n",
       "      <td>0</td>\n",
       "      <td>2.306915e+07</td>\n",
       "    </tr>\n",
       "    <tr>\n",
       "      <th>1</th>\n",
       "      <td>1</td>\n",
       "      <td>1.010627e+07</td>\n",
       "    </tr>\n",
       "    <tr>\n",
       "      <th>2</th>\n",
       "      <td>2</td>\n",
       "      <td>1.101328e+07</td>\n",
       "    </tr>\n",
       "    <tr>\n",
       "      <th>3</th>\n",
       "      <td>3</td>\n",
       "      <td>-2.066809e+06</td>\n",
       "    </tr>\n",
       "    <tr>\n",
       "      <th>4</th>\n",
       "      <td>4</td>\n",
       "      <td>-5.810982e+06</td>\n",
       "    </tr>\n",
       "    <tr>\n",
       "      <th>...</th>\n",
       "      <td>...</td>\n",
       "      <td>...</td>\n",
       "    </tr>\n",
       "    <tr>\n",
       "      <th>431</th>\n",
       "      <td>431</td>\n",
       "      <td>1.267816e+07</td>\n",
       "    </tr>\n",
       "    <tr>\n",
       "      <th>432</th>\n",
       "      <td>432</td>\n",
       "      <td>8.826361e+06</td>\n",
       "    </tr>\n",
       "    <tr>\n",
       "      <th>433</th>\n",
       "      <td>433</td>\n",
       "      <td>1.186530e+07</td>\n",
       "    </tr>\n",
       "    <tr>\n",
       "      <th>434</th>\n",
       "      <td>434</td>\n",
       "      <td>-8.385850e+05</td>\n",
       "    </tr>\n",
       "    <tr>\n",
       "      <th>435</th>\n",
       "      <td>435</td>\n",
       "      <td>2.529196e+06</td>\n",
       "    </tr>\n",
       "  </tbody>\n",
       "</table>\n",
       "<p>436 rows × 2 columns</p>\n",
       "</div>"
      ],
      "text/plain": [
       "      id        target\n",
       "0      0  2.306915e+07\n",
       "1      1  1.010627e+07\n",
       "2      2  1.101328e+07\n",
       "3      3 -2.066809e+06\n",
       "4      4 -5.810982e+06\n",
       "..   ...           ...\n",
       "431  431  1.267816e+07\n",
       "432  432  8.826361e+06\n",
       "433  433  1.186530e+07\n",
       "434  434 -8.385850e+05\n",
       "435  435  2.529196e+06\n",
       "\n",
       "[436 rows x 2 columns]"
      ]
     },
     "execution_count": 55,
     "metadata": {},
     "output_type": "execute_result"
    }
   ],
   "source": [
    "submission = sample_submission.copy()\n",
    "submission.target = pred\n",
    "submission"
   ]
  },
  {
   "cell_type": "code",
   "execution_count": null,
   "id": "32ae8d23",
   "metadata": {},
   "outputs": [],
   "source": []
  },
  {
   "cell_type": "code",
   "execution_count": 65,
   "id": "d9bdf051",
   "metadata": {},
   "outputs": [
    {
     "name": "stdout",
     "output_type": "stream",
     "text": [
      "학습시킬 train 셋 :  (761, 12)\n",
      "검증할 val 셋 :  (254, 12)\n"
     ]
    }
   ],
   "source": [
    "from sklearn.model_selection import train_test_split\n",
    "\n",
    "data = train.drop('id', axis = 1).copy() #필요없는 id열 삭제\n",
    "train_data, val_data = train_test_split(data, test_size=0.25) #30프로로 설정\n",
    "train_data.reset_index(inplace=True) #전처리 과정에서 데이터가 뒤섞이지 않도록 인덱스를 초기화\n",
    "val_data.reset_index(inplace=True)\n",
    "\n",
    "print('학습시킬 train 셋 : ', train_data.shape)\n",
    "print('검증할 val 셋 : ', val_data.shape)\n"
   ]
  },
  {
   "cell_type": "code",
   "execution_count": 79,
   "id": "6d4afa78",
   "metadata": {},
   "outputs": [
    {
     "name": "stdout",
     "output_type": "stream",
     "text": [
      "(761, 10)\n",
      "(254, 10)\n"
     ]
    }
   ],
   "source": [
    "train_data_X = train_data.drop(['target', 'index'], axis = 1) #training 데이터에서 피쳐 추출\n",
    "train_data_y = train_data.target #training 데이터에서 target 추출\n",
    "\n",
    "val_data_X = val_data.drop(['target', 'index'], axis = 1) #training 데이터에서 피쳐 추출\n",
    "val_data_y = val_data.target #validation 데이터에서 target 추출\n",
    "\n",
    "print(train_data_X.shape)\n",
    "print(val_data_X.shape)\n"
   ]
  },
  {
   "cell_type": "code",
   "execution_count": 80,
   "id": "4dfc7ed4",
   "metadata": {},
   "outputs": [
    {
     "name": "stderr",
     "output_type": "stream",
     "text": [
      "C:\\Users\\SH\\AppData\\Local\\Programs\\Python\\Python39\\lib\\site-packages\\sklearn\\ensemble\\_gb.py:1854: FutureWarning: criterion='mae' was deprecated in version 0.24 and will be removed in version 1.1 (renaming of 0.26). The correct way of minimizing the absolute error is to use  loss='absolute_error' instead.\n",
      "  warnings.warn(\n"
     ]
    }
   ],
   "source": [
    "from sklearn.ensemble import ExtraTreesRegressor\n",
    "from sklearn.ensemble import RandomForestRegressor\n",
    "from sklearn.ensemble import GradientBoostingRegressor\n",
    "\n",
    "#모델들을 할당할 리스트를 만들어줍니다.\n",
    "models = []\n",
    "\n",
    "#모델들을 각각 할당하여 리스트에 추가합니다.\n",
    "models.append(ExtraTreesRegressor(n_estimators=110))\n",
    "models.append(RandomForestRegressor(n_estimators=110))\n",
    "models.append(GradientBoostingRegressor(learning_rate=0.22, criterion='absolute_error'))\n",
    "\n",
    "#모델들을 할당한 리스트를 불러와 순차적으로 train 데이터에 학습을 시켜줍니다.\n",
    "for model in models:\n",
    "    model.fit(train_data_X, train_data_y)"
   ]
  },
  {
   "cell_type": "code",
   "execution_count": 81,
   "id": "6f4091e4",
   "metadata": {},
   "outputs": [],
   "source": [
    "# 전처리가 완료된 테스트 데이터셋을 통해 본격적으로 학습한 모델로 추론을 시작합니다.\n",
    "prediction = None\n",
    "\n",
    "# 학습 된 모델들을 순차적으로 불러옵니다.\n",
    "for model in models:\n",
    "    # 각 모델들의 최종 회귀값들을 prediction에 모두 더해줍니다.\n",
    "    if prediction is None:\n",
    "        prediction = model.predict(val_data_X)\n",
    "    else:\n",
    "        prediction += model.predict(val_data_X)\n",
    "        \n",
    "# 앙상블에 참여한 모든 모델의 수 만큼 다시 나눠줍니다 (= 평균)\n",
    "prediction /= len(models)\n"
   ]
  },
  {
   "cell_type": "code",
   "execution_count": 82,
   "id": "a77f4582",
   "metadata": {},
   "outputs": [
    {
     "name": "stdout",
     "output_type": "stream",
     "text": [
      "모델 NMAE: 0.40671446183463417\n"
     ]
    }
   ],
   "source": [
    "import numpy as np\n",
    "from sklearn.metrics import mean_squared_error\n",
    "\n",
    "def nmae(true, pred):\n",
    "\n",
    "    mae = np.mean(np.abs(true-pred))\n",
    "    score = mae / np.mean(np.abs(true))\n",
    "    \n",
    "    return score\n",
    "\n",
    "y_hat = model.predict(val_data_X) # y예측\n",
    "print(f'모델 NMAE: {nmae(val_data_y,y_hat)}')\n"
   ]
  },
  {
   "cell_type": "code",
   "execution_count": 83,
   "id": "8dcdd17c",
   "metadata": {
    "scrolled": true
   },
   "outputs": [
    {
     "data": {
      "image/png": "[encoded data removed]",
      "text/plain": [
       "<Figure size 1440x720 with 1 Axes>"
      ]
     },
     "metadata": {},
     "output_type": "display_data"
    }
   ],
   "source": [
    "import matplotlib.pyplot as plt\n",
    "\n",
    "plt.style.use('ggplot')\n",
    "plt.figure(figsize=(20, 10))\n",
    "plt.plot(y_hat, label = 'prediction')\n",
    "plt.plot(val_data_y, label = 'real')\n",
    "plt.legend(fontsize = 20)\n",
    "plt.show()"
   ]
  },
  {
   "cell_type": "code",
   "execution_count": 88,
   "id": "32138e5a",
   "metadata": {},
   "outputs": [],
   "source": [
    "train_X = train.drop(['id', 'target'], axis = 1) #training 데이터에서 피쳐 추출\n",
    "train_y = train.target #training 데이터에서 target 추출"
   ]
  },
  {
   "cell_type": "code",
   "execution_count": 89,
   "id": "34e347cc",
   "metadata": {},
   "outputs": [
    {
     "name": "stderr",
     "output_type": "stream",
     "text": [
      "C:\\Users\\SH\\AppData\\Local\\Programs\\Python\\Python39\\lib\\site-packages\\sklearn\\ensemble\\_gb.py:1854: FutureWarning: criterion='mae' was deprecated in version 0.24 and will be removed in version 1.1 (renaming of 0.26). The correct way of minimizing the absolute error is to use  loss='absolute_error' instead.\n",
      "  warnings.warn(\n"
     ]
    }
   ],
   "source": [
    "#모델들을 할당할 리스트를 만들어줍니다.\n",
    "models = []\n",
    "\n",
    "#모델들을 각각 할당하여 리스트에 추가합니다.\n",
    "models.append(ExtraTreesRegressor(n_estimators=110))\n",
    "models.append(RandomForestRegressor(n_estimators=110))\n",
    "models.append(GradientBoostingRegressor(learning_rate=0.22, criterion='absolute_error'))\n",
    "\n",
    "#모델들을 할당한 리스트를 불러와 순차적으로 train 데이터에 학습을 시켜줍니다.\n",
    "for model in models:\n",
    "    model.fit(train_X, train_y)"
   ]
  },
  {
   "cell_type": "code",
   "execution_count": 90,
   "id": "edd03bd1",
   "metadata": {},
   "outputs": [
    {
     "name": "stderr",
     "output_type": "stream",
     "text": [
      "C:\\Users\\SH\\AppData\\Local\\Programs\\Python\\Python39\\lib\\site-packages\\sklearn\\base.py:493: FutureWarning: The feature names should match those that were passed during fit. Starting version 1.2, an error will be raised.\n",
      "Feature names unseen at fit time:\n",
      "- id\n",
      "Feature names must be in the same order as they were in fit.\n",
      "\n",
      "  warnings.warn(message, FutureWarning)\n"
     ]
    },
    {
     "ename": "ValueError",
     "evalue": "X has 11 features, but ExtraTreesRegressor is expecting 10 features as input.",
     "output_type": "error",
     "traceback": [
      "\u001b[1;31m---------------------------------------------------------------------------\u001b[0m",
      "\u001b[1;31mValueError\u001b[0m                                Traceback (most recent call last)",
      "Input \u001b[1;32mIn [90]\u001b[0m, in \u001b[0;36m<cell line: 5>\u001b[1;34m()\u001b[0m\n\u001b[0;32m      5\u001b[0m \u001b[38;5;28;01mfor\u001b[39;00m model \u001b[38;5;129;01min\u001b[39;00m models:\n\u001b[0;32m      6\u001b[0m     \u001b[38;5;66;03m# 각 모델들의 최종 회귀값들을 prediction에 모두 더해줍니다.\u001b[39;00m\n\u001b[0;32m      7\u001b[0m     \u001b[38;5;28;01mif\u001b[39;00m prediction \u001b[38;5;129;01mis\u001b[39;00m \u001b[38;5;28;01mNone\u001b[39;00m:\n\u001b[1;32m----> 8\u001b[0m         prediction \u001b[38;5;241m=\u001b[39m \u001b[43mmodel\u001b[49m\u001b[38;5;241;43m.\u001b[39;49m\u001b[43mpredict\u001b[49m\u001b[43m(\u001b[49m\u001b[43mtest\u001b[49m\u001b[43m)\u001b[49m\n\u001b[0;32m      9\u001b[0m     \u001b[38;5;28;01melse\u001b[39;00m:\n\u001b[0;32m     10\u001b[0m         prediction \u001b[38;5;241m+\u001b[39m\u001b[38;5;241m=\u001b[39m model\u001b[38;5;241m.\u001b[39mpredict(test)\n",
      "File \u001b[1;32m~\\AppData\\Local\\Programs\\Python\\Python39\\lib\\site-packages\\sklearn\\ensemble\\_forest.py:971\u001b[0m, in \u001b[0;36mForestRegressor.predict\u001b[1;34m(self, X)\u001b[0m\n\u001b[0;32m    969\u001b[0m check_is_fitted(\u001b[38;5;28mself\u001b[39m)\n\u001b[0;32m    970\u001b[0m \u001b[38;5;66;03m# Check data\u001b[39;00m\n\u001b[1;32m--> 971\u001b[0m X \u001b[38;5;241m=\u001b[39m \u001b[38;5;28;43mself\u001b[39;49m\u001b[38;5;241;43m.\u001b[39;49m\u001b[43m_validate_X_predict\u001b[49m\u001b[43m(\u001b[49m\u001b[43mX\u001b[49m\u001b[43m)\u001b[49m\n\u001b[0;32m    973\u001b[0m \u001b[38;5;66;03m# Assign chunk of trees to jobs\u001b[39;00m\n\u001b[0;32m    974\u001b[0m n_jobs, _, _ \u001b[38;5;241m=\u001b[39m _partition_estimators(\u001b[38;5;28mself\u001b[39m\u001b[38;5;241m.\u001b[39mn_estimators, \u001b[38;5;28mself\u001b[39m\u001b[38;5;241m.\u001b[39mn_jobs)\n",
      "File \u001b[1;32m~\\AppData\\Local\\Programs\\Python\\Python39\\lib\\site-packages\\sklearn\\ensemble\\_forest.py:579\u001b[0m, in \u001b[0;36mBaseForest._validate_X_predict\u001b[1;34m(self, X)\u001b[0m\n\u001b[0;32m    576\u001b[0m \u001b[38;5;124;03m\"\"\"\u001b[39;00m\n\u001b[0;32m    577\u001b[0m \u001b[38;5;124;03mValidate X whenever one tries to predict, apply, predict_proba.\"\"\"\u001b[39;00m\n\u001b[0;32m    578\u001b[0m check_is_fitted(\u001b[38;5;28mself\u001b[39m)\n\u001b[1;32m--> 579\u001b[0m X \u001b[38;5;241m=\u001b[39m \u001b[38;5;28;43mself\u001b[39;49m\u001b[38;5;241;43m.\u001b[39;49m\u001b[43m_validate_data\u001b[49m\u001b[43m(\u001b[49m\u001b[43mX\u001b[49m\u001b[43m,\u001b[49m\u001b[43m \u001b[49m\u001b[43mdtype\u001b[49m\u001b[38;5;241;43m=\u001b[39;49m\u001b[43mDTYPE\u001b[49m\u001b[43m,\u001b[49m\u001b[43m \u001b[49m\u001b[43maccept_sparse\u001b[49m\u001b[38;5;241;43m=\u001b[39;49m\u001b[38;5;124;43m\"\u001b[39;49m\u001b[38;5;124;43mcsr\u001b[39;49m\u001b[38;5;124;43m\"\u001b[39;49m\u001b[43m,\u001b[49m\u001b[43m \u001b[49m\u001b[43mreset\u001b[49m\u001b[38;5;241;43m=\u001b[39;49m\u001b[38;5;28;43;01mFalse\u001b[39;49;00m\u001b[43m)\u001b[49m\n\u001b[0;32m    580\u001b[0m \u001b[38;5;28;01mif\u001b[39;00m issparse(X) \u001b[38;5;129;01mand\u001b[39;00m (X\u001b[38;5;241m.\u001b[39mindices\u001b[38;5;241m.\u001b[39mdtype \u001b[38;5;241m!=\u001b[39m np\u001b[38;5;241m.\u001b[39mintc \u001b[38;5;129;01mor\u001b[39;00m X\u001b[38;5;241m.\u001b[39mindptr\u001b[38;5;241m.\u001b[39mdtype \u001b[38;5;241m!=\u001b[39m np\u001b[38;5;241m.\u001b[39mintc):\n\u001b[0;32m    581\u001b[0m     \u001b[38;5;28;01mraise\u001b[39;00m \u001b[38;5;167;01mValueError\u001b[39;00m(\u001b[38;5;124m\"\u001b[39m\u001b[38;5;124mNo support for np.int64 index based sparse matrices\u001b[39m\u001b[38;5;124m\"\u001b[39m)\n",
      "File \u001b[1;32m~\\AppData\\Local\\Programs\\Python\\Python39\\lib\\site-packages\\sklearn\\base.py:585\u001b[0m, in \u001b[0;36mBaseEstimator._validate_data\u001b[1;34m(self, X, y, reset, validate_separately, **check_params)\u001b[0m\n\u001b[0;32m    582\u001b[0m     out \u001b[38;5;241m=\u001b[39m X, y\n\u001b[0;32m    584\u001b[0m \u001b[38;5;28;01mif\u001b[39;00m \u001b[38;5;129;01mnot\u001b[39;00m no_val_X \u001b[38;5;129;01mand\u001b[39;00m check_params\u001b[38;5;241m.\u001b[39mget(\u001b[38;5;124m\"\u001b[39m\u001b[38;5;124mensure_2d\u001b[39m\u001b[38;5;124m\"\u001b[39m, \u001b[38;5;28;01mTrue\u001b[39;00m):\n\u001b[1;32m--> 585\u001b[0m     \u001b[38;5;28;43mself\u001b[39;49m\u001b[38;5;241;43m.\u001b[39;49m\u001b[43m_check_n_features\u001b[49m\u001b[43m(\u001b[49m\u001b[43mX\u001b[49m\u001b[43m,\u001b[49m\u001b[43m \u001b[49m\u001b[43mreset\u001b[49m\u001b[38;5;241;43m=\u001b[39;49m\u001b[43mreset\u001b[49m\u001b[43m)\u001b[49m\n\u001b[0;32m    587\u001b[0m \u001b[38;5;28;01mreturn\u001b[39;00m out\n",
      "File \u001b[1;32m~\\AppData\\Local\\Programs\\Python\\Python39\\lib\\site-packages\\sklearn\\base.py:400\u001b[0m, in \u001b[0;36mBaseEstimator._check_n_features\u001b[1;34m(self, X, reset)\u001b[0m\n\u001b[0;32m    397\u001b[0m     \u001b[38;5;28;01mreturn\u001b[39;00m\n\u001b[0;32m    399\u001b[0m \u001b[38;5;28;01mif\u001b[39;00m n_features \u001b[38;5;241m!=\u001b[39m \u001b[38;5;28mself\u001b[39m\u001b[38;5;241m.\u001b[39mn_features_in_:\n\u001b[1;32m--> 400\u001b[0m     \u001b[38;5;28;01mraise\u001b[39;00m \u001b[38;5;167;01mValueError\u001b[39;00m(\n\u001b[0;32m    401\u001b[0m         \u001b[38;5;124mf\u001b[39m\u001b[38;5;124m\"\u001b[39m\u001b[38;5;124mX has \u001b[39m\u001b[38;5;132;01m{\u001b[39;00mn_features\u001b[38;5;132;01m}\u001b[39;00m\u001b[38;5;124m features, but \u001b[39m\u001b[38;5;132;01m{\u001b[39;00m\u001b[38;5;28mself\u001b[39m\u001b[38;5;241m.\u001b[39m\u001b[38;5;18m__class__\u001b[39m\u001b[38;5;241m.\u001b[39m\u001b[38;5;18m__name__\u001b[39m\u001b[38;5;132;01m}\u001b[39;00m\u001b[38;5;124m \u001b[39m\u001b[38;5;124m\"\u001b[39m\n\u001b[0;32m    402\u001b[0m         \u001b[38;5;124mf\u001b[39m\u001b[38;5;124m\"\u001b[39m\u001b[38;5;124mis expecting \u001b[39m\u001b[38;5;132;01m{\u001b[39;00m\u001b[38;5;28mself\u001b[39m\u001b[38;5;241m.\u001b[39mn_features_in_\u001b[38;5;132;01m}\u001b[39;00m\u001b[38;5;124m features as input.\u001b[39m\u001b[38;5;124m\"\u001b[39m\n\u001b[0;32m    403\u001b[0m     )\n",
      "\u001b[1;31mValueError\u001b[0m: X has 11 features, but ExtraTreesRegressor is expecting 10 features as input."
     ]
    }
   ],
   "source": [
    "# 전처리가 완료된 테스트 데이터셋을 통해 본격적으로 학습한 모델로 추론을 시작합니다.\n",
    "prediction = None\n",
    "\n",
    "# 학습 된 모델들을 순차적으로 불러옵니다.\n",
    "for model in models:\n",
    "    # 각 모델들의 최종 회귀값들을 prediction에 모두 더해줍니다.\n",
    "    if prediction is None:\n",
    "        prediction = model.predict(test)\n",
    "    else:\n",
    "        prediction += model.predict(test)\n",
    "        \n",
    "# 앙상블에 참여한 모든 모델의 수 만큼 다시 나눠줍니다 (= 평균)\n",
    "prediction /= len(models)"
   ]
  },
  {
   "cell_type": "code",
   "execution_count": null,
   "id": "38c5edbd",
   "metadata": {},
   "outputs": [],
   "source": []
  },
  {
   "cell_type": "code",
   "execution_count": null,
   "id": "652ee15e",
   "metadata": {},
   "outputs": [],
   "source": []
  },
  {
   "cell_type": "code",
   "execution_count": null,
   "id": "0516ce6c",
   "metadata": {},
   "outputs": [],
   "source": []
  },
  {
   "cell_type": "code",
   "execution_count": null,
   "id": "94667fc6",
   "metadata": {},
   "outputs": [],
   "source": []
  }
 ],
 "metadata": {
  "kernelspec": {
   "display_name": "Python 3 (ipykernel)",
   "language": "python",
   "name": "python3"
  },
  "language_info": {
   "codemirror_mode": {
    "name": "ipython",
    "version": 3
   },
   "file_extension": ".py",
   "mimetype": "text/x-python",
   "name": "python",
   "nbconvert_exporter": "python",
   "pygments_lexer": "ipython3",
   "version": "3.9.9"
  },
  "toc": {
   "base_numbering": 1,
   "nav_menu": {},
   "number_sections": true,
   "sideBar": true,
   "skip_h1_title": false,
   "title_cell": "Table of Contents",
   "title_sidebar": "Contents",
   "toc_cell": false,
   "toc_position": {},
   "toc_section_display": true,
   "toc_window_display": false
  }
 },
 "nbformat": 4,
 "nbformat_minor": 5
}
