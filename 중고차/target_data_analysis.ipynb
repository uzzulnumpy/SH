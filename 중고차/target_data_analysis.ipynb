{
 "cells": [
  {
   "cell_type": "code",
   "execution_count": 2,
   "id": "4863a609",
   "metadata": {},
   "outputs": [],
   "source": [
    "import pandas as pd \n",
    "import numpy as np \n",
    "import matplotlib as mpl\n",
    "import matplotlib.pyplot as plt\n",
    "import seaborn as sns\n",
    "import scipy as sp\n",
    "%matplotlib inline  \n",
    "%precision 3\n",
    "\n",
    "\n",
    "# 시각화 설정\n",
    "colors = [plt.cm.Dark2(i) for i in range(20)]\n",
    "mpl.rcParams.update({'font.size':18})"
   ]
  },
  {
   "cell_type": "code",
   "execution_count": 3,
   "id": "8c6e74df",
   "metadata": {},
   "outputs": [
    {
     "data": {
      "text/html": [
       "<div>\n",
       "<style scoped>\n",
       "    .dataframe tbody tr th:only-of-type {\n",
       "        vertical-align: middle;\n",
       "    }\n",
       "\n",
       "    .dataframe tbody tr th {\n",
       "        vertical-align: top;\n",
       "    }\n",
       "\n",
       "    .dataframe thead th {\n",
       "        text-align: right;\n",
       "    }\n",
       "</style>\n",
       "<table border=\"1\" class=\"dataframe\">\n",
       "  <thead>\n",
       "    <tr style=\"text-align: right;\">\n",
       "      <th></th>\n",
       "      <th>id</th>\n",
       "      <th>title</th>\n",
       "      <th>odometer</th>\n",
       "      <th>location</th>\n",
       "      <th>isimported</th>\n",
       "      <th>engine</th>\n",
       "      <th>transmission</th>\n",
       "      <th>fuel</th>\n",
       "      <th>paint</th>\n",
       "      <th>year</th>\n",
       "      <th>target</th>\n",
       "    </tr>\n",
       "  </thead>\n",
       "  <tbody>\n",
       "    <tr>\n",
       "      <th>0</th>\n",
       "      <td>0</td>\n",
       "      <td>Toyota RAV 4</td>\n",
       "      <td>18277</td>\n",
       "      <td>Lagos</td>\n",
       "      <td>Foreign Used</td>\n",
       "      <td>4-cylinder(I4)</td>\n",
       "      <td>automatic</td>\n",
       "      <td>petrol</td>\n",
       "      <td>Red</td>\n",
       "      <td>2016</td>\n",
       "      <td>13665000</td>\n",
       "    </tr>\n",
       "    <tr>\n",
       "      <th>1</th>\n",
       "      <td>1</td>\n",
       "      <td>Toyota Land Cruiser</td>\n",
       "      <td>10</td>\n",
       "      <td>Lagos</td>\n",
       "      <td>New</td>\n",
       "      <td>4-cylinder(I4)</td>\n",
       "      <td>automatic</td>\n",
       "      <td>petrol</td>\n",
       "      <td>Black</td>\n",
       "      <td>2019</td>\n",
       "      <td>33015000</td>\n",
       "    </tr>\n",
       "    <tr>\n",
       "      <th>2</th>\n",
       "      <td>2</td>\n",
       "      <td>Land Rover Range Rover Evoque</td>\n",
       "      <td>83091</td>\n",
       "      <td>Lagos</td>\n",
       "      <td>Foreign Used</td>\n",
       "      <td>6-cylinder(V6)</td>\n",
       "      <td>automatic</td>\n",
       "      <td>petrol</td>\n",
       "      <td>Red</td>\n",
       "      <td>2012</td>\n",
       "      <td>9915000</td>\n",
       "    </tr>\n",
       "    <tr>\n",
       "      <th>3</th>\n",
       "      <td>3</td>\n",
       "      <td>Lexus ES 350</td>\n",
       "      <td>91524</td>\n",
       "      <td>Lagos</td>\n",
       "      <td>Foreign Used</td>\n",
       "      <td>4-cylinder(I4)</td>\n",
       "      <td>automatic</td>\n",
       "      <td>petrol</td>\n",
       "      <td>Gray</td>\n",
       "      <td>2007</td>\n",
       "      <td>3815000</td>\n",
       "    </tr>\n",
       "    <tr>\n",
       "      <th>4</th>\n",
       "      <td>4</td>\n",
       "      <td>Toyota Venza</td>\n",
       "      <td>94177</td>\n",
       "      <td>Lagos</td>\n",
       "      <td>Foreign Used</td>\n",
       "      <td>6-cylinder(V6)</td>\n",
       "      <td>automatic</td>\n",
       "      <td>petrol</td>\n",
       "      <td>Red</td>\n",
       "      <td>2010</td>\n",
       "      <td>7385000</td>\n",
       "    </tr>\n",
       "  </tbody>\n",
       "</table>\n",
       "</div>"
      ],
      "text/plain": [
       "   id                          title  odometer location    isimported  \\\n",
       "0   0                   Toyota RAV 4     18277   Lagos   Foreign Used   \n",
       "1   1            Toyota Land Cruiser        10    Lagos          New    \n",
       "2   2  Land Rover Range Rover Evoque     83091    Lagos  Foreign Used   \n",
       "3   3                   Lexus ES 350     91524    Lagos  Foreign Used   \n",
       "4   4                   Toyota Venza     94177    Lagos  Foreign Used   \n",
       "\n",
       "           engine transmission    fuel  paint  year    target  \n",
       "0  4-cylinder(I4)    automatic  petrol    Red  2016  13665000  \n",
       "1  4-cylinder(I4)    automatic  petrol  Black  2019  33015000  \n",
       "2  6-cylinder(V6)    automatic  petrol    Red  2012   9915000  \n",
       "3  4-cylinder(I4)    automatic  petrol   Gray  2007   3815000  \n",
       "4  6-cylinder(V6)    automatic  petrol    Red  2010   7385000  "
      ]
     },
     "execution_count": 3,
     "metadata": {},
     "output_type": "execute_result"
    }
   ],
   "source": [
    "train = pd.read_csv('data/train.csv')\n",
    "test = pd.read_csv('data/test.csv')\n",
    "\n",
    "train.head()"
   ]
  },
  {
   "cell_type": "code",
   "execution_count": 4,
   "id": "2e9bf3c4",
   "metadata": {},
   "outputs": [
    {
     "data": {
      "text/plain": [
       "count    1.015000e+03\n",
       "mean     8.243204e+06\n",
       "std      1.239567e+07\n",
       "min      4.000000e+05\n",
       "25%      2.535000e+06\n",
       "50%      4.215000e+06\n",
       "75%      8.927500e+06\n",
       "max      1.500150e+08\n",
       "Name: target, dtype: float64"
      ]
     },
     "execution_count": 4,
     "metadata": {},
     "output_type": "execute_result"
    }
   ],
   "source": [
    "target = train['target']\n",
    "target.describe()"
   ]
  },
  {
   "cell_type": "code",
   "execution_count": 5,
   "id": "3b10a6c1",
   "metadata": {},
   "outputs": [
    {
     "name": "stdout",
     "output_type": "stream",
     "text": [
      "평균값 :  8243204.450246305\n",
      "중간값 :  4215000.0\n",
      "중간값과 평균값의 차이 :  -4028204.450246305\n"
     ]
    }
   ],
   "source": [
    "print('평균값 : ', target.mean())\n",
    "print('중간값 : ', target.median())\n",
    "print('중간값과 평균값의 차이 : ', target.median() - target.mean())"
   ]
  },
  {
   "cell_type": "code",
   "execution_count": 7,
   "id": "431fea0d",
   "metadata": {},
   "outputs": [
    {
     "name": "stdout",
     "output_type": "stream",
     "text": [
      "0.0% 절사평균 :  8243204.450246305\n",
      "5.0% 절사평균 :  6250996.731147541\n",
      "10.0% 절사평균 :  5653857.329643296\n",
      "15.0% 절사평균 :  5252582.29113924\n",
      "20.0% 절사평균 :  4967098.536945812\n",
      "25.0% 절사평균 :  4764495.106090373\n"
     ]
    }
   ],
   "source": [
    "from scipy.stats import trim_mean\n",
    "\n",
    "for trim in [0.0, 0.05, 0.1, 0.15, 0.2, 0.25]:\n",
    "    print(f'{trim*100}% 절사평균 : ',trim_mean(target, trim))"
   ]
  },
  {
   "cell_type": "code",
   "execution_count": 8,
   "id": "a7273e74",
   "metadata": {},
   "outputs": [
    {
     "name": "stdout",
     "output_type": "stream",
     "text": [
      "분산 :  153652724096224.1\n",
      "표준편차 :  12395673.603972642\n"
     ]
    }
   ],
   "source": [
    "print('분산 : ', target.var())\n",
    "print('표준편차 : ', target.std())\n"
   ]
  },
  {
   "cell_type": "code",
   "execution_count": 10,
   "id": "45607c48",
   "metadata": {},
   "outputs": [
    {
     "name": "stdout",
     "output_type": "stream",
     "text": [
      "중위절대편차 :  3409985.1025628843\n"
     ]
    }
   ],
   "source": [
    "# 중위표준편차 (MAD)는 statsmodels.api 패키지에 있는 함수로 구할 수 있다.\n",
    "import statsmodels.api as sm\n",
    "\n",
    "print('중위절대편차 : ',sm.robust.scale.mad(target))"
   ]
  },
  {
   "cell_type": "code",
   "execution_count": 11,
   "id": "e95f2985",
   "metadata": {},
   "outputs": [
    {
     "data": {
      "text/plain": [
       "(805014.897, 7624985.103)"
      ]
     },
     "execution_count": 11,
     "metadata": {},
     "output_type": "execute_result"
    }
   ],
   "source": [
    "target.median() - sm.robust.scale.mad(target), target.median() + sm.robust.scale.mad(target)\n"
   ]
  },
  {
   "cell_type": "code",
   "execution_count": 12,
   "id": "d8c6a45c",
   "metadata": {},
   "outputs": [
    {
     "name": "stdout",
     "output_type": "stream",
     "text": [
      "최댓값 :  150015008\n",
      "최솟값 :  400000\n",
      "범위 :  149615008\n"
     ]
    }
   ],
   "source": [
    "print('최댓값 : ', target.max())\n",
    "print('최솟값 : ', target.min())\n",
    "print('범위 : ', target.max() - target.min())"
   ]
  },
  {
   "cell_type": "code",
   "execution_count": 13,
   "id": "ff41d0ab",
   "metadata": {},
   "outputs": [
    {
     "name": "stdout",
     "output_type": "stream",
     "text": [
      "상위 25% :  8927500.0\n",
      "하위 25% :  2535000.0\n",
      "사분위수 범위 :  6392500.0\n"
     ]
    }
   ],
   "source": [
    "print('상위 25% : ', target.quantile(0.75))\n",
    "print('하위 25% : ', target.quantile(0.25))\n",
    "print('사분위수 범위 : ',target.quantile(0.75) - target.quantile(0.25))"
   ]
  },
  {
   "cell_type": "code",
   "execution_count": 14,
   "id": "bd9cd011",
   "metadata": {},
   "outputs": [
    {
     "name": "stdout",
     "output_type": "stream",
     "text": [
      "왜도 :  4.9552768084421\n"
     ]
    }
   ],
   "source": [
    "print('왜도 : ',target.skew())"
   ]
  },
  {
   "cell_type": "code",
   "execution_count": 15,
   "id": "0856d30c",
   "metadata": {},
   "outputs": [
    {
     "name": "stdout",
     "output_type": "stream",
     "text": [
      "첨도 :  35.55992197898911\n"
     ]
    }
   ],
   "source": [
    "print('첨도 : ', target.kurt())\n"
   ]
  },
  {
   "cell_type": "code",
   "execution_count": 16,
   "id": "f01fd364",
   "metadata": {},
   "outputs": [],
   "source": [
    "# 수치형변수 분석기\n",
    "from scipy.stats import trim_mean\n",
    "import statsmodels.api as sm\n",
    "\n",
    "\n",
    "\n",
    "def numerical_analysis(dataframe):\n",
    "    # 분석을 통해 얻어지는 결과들은 dictionary에 저장합니다.\n",
    "    analysis = {}\n",
    "\n",
    "    # 위치분석\n",
    "    analysis['평균'] = dataframe.mean()\n",
    "    analysis['중위값'] = dataframe.median()\n",
    "    \n",
    "    for trim in [0.1, 0.15, 0.2, 0.25]:\n",
    "        analysis[f'{trim*100}% 절사평균'] = trim_mean(dataframe, trim)\n",
    "    \n",
    "    # 변이분석\n",
    "    analysis['분산'] = dataframe.var()\n",
    "    analysis['표준편차'] = dataframe.std()\n",
    "    analysis['중위절대편차'] = sm.robust.scale.mad(dataframe)\n",
    "\n",
    "    analysis['-1sigma'] = analysis['평균'] - analysis['표준편차']\n",
    "    analysis['+1sigma'] = analysis['평균'] + analysis['표준편차']\n",
    "\n",
    "    analysis['-1MAD'] = analysis['중위값'] - analysis['중위절대편차']\n",
    "    analysis['+1MAD'] = analysis['중위값'] + analysis['중위절대편차']\n",
    "\n",
    "    # 범위분석\n",
    "    analysis['최댓값'] = dataframe.max()\n",
    "    analysis['최솟값'] = dataframe.min()\n",
    "    analysis['범위'] = analysis['최댓값'] - analysis['최솟값']\n",
    "    \n",
    "    analysis['삼분위수'] = dataframe.quantile(0.75) \n",
    "    analysis['일분위수'] = dataframe.quantile(0.25)\n",
    "    analysis['사분위수범위'] = analysis['삼분위수'] - analysis['일분위수']\n",
    "\n",
    "    # 왜도와 첨도\n",
    "    analysis['왜도'] = dataframe.skew()\n",
    "    analysis['첨도'] = dataframe.kurt()\n",
    "\n",
    "    return analysis\n"
   ]
  },
  {
   "cell_type": "code",
   "execution_count": 17,
   "id": "7d2fb136",
   "metadata": {},
   "outputs": [
    {
     "data": {
      "text/plain": [
       "{'평균': 8243204.450,\n",
       " '중위값': 4215000.000,\n",
       " '10.0% 절사평균': 5653857.330,\n",
       " '15.0% 절사평균': 5252582.291,\n",
       " '20.0% 절사평균': 4967098.537,\n",
       " '25.0% 절사평균': 4764495.106,\n",
       " '분산': 153652724096224.094,\n",
       " '표준편차': 12395673.604,\n",
       " '중위절대편차': 3409985.103,\n",
       " '-1sigma': -4152469.154,\n",
       " '+1sigma': 20638878.054,\n",
       " '-1MAD': 805014.897,\n",
       " '+1MAD': 7624985.103,\n",
       " '최댓값': 150015008,\n",
       " '최솟값': 400000,\n",
       " '범위': 149615008,\n",
       " '삼분위수': 8927500.000,\n",
       " '일분위수': 2535000.000,\n",
       " '사분위수범위': 6392500.000,\n",
       " '왜도': 4.955,\n",
       " '첨도': 35.560}"
      ]
     },
     "execution_count": 17,
     "metadata": {},
     "output_type": "execute_result"
    }
   ],
   "source": [
    "numerical_analysis(target)\n"
   ]
  },
  {
   "cell_type": "code",
   "execution_count": null,
   "id": "6f7f75cf",
   "metadata": {},
   "outputs": [],
   "source": []
  },
  {
   "cell_type": "code",
   "execution_count": null,
   "id": "25e451bc",
   "metadata": {},
   "outputs": [],
   "source": []
  },
  {
   "cell_type": "code",
   "execution_count": null,
   "id": "d95a9f4f",
   "metadata": {},
   "outputs": [],
   "source": []
  },
  {
   "cell_type": "code",
   "execution_count": null,
   "id": "25a49005",
   "metadata": {},
   "outputs": [],
   "source": []
  },
  {
   "cell_type": "code",
   "execution_count": null,
   "id": "aa961371",
   "metadata": {},
   "outputs": [],
   "source": []
  },
  {
   "cell_type": "code",
   "execution_count": null,
   "id": "d79e890f",
   "metadata": {},
   "outputs": [],
   "source": []
  },
  {
   "cell_type": "code",
   "execution_count": null,
   "id": "553df2c9",
   "metadata": {},
   "outputs": [],
   "source": []
  },
  {
   "cell_type": "code",
   "execution_count": null,
   "id": "47b72b77",
   "metadata": {},
   "outputs": [],
   "source": []
  },
  {
   "cell_type": "code",
   "execution_count": null,
   "id": "97fd14e0",
   "metadata": {},
   "outputs": [],
   "source": []
  }
 ],
 "metadata": {
  "kernelspec": {
   "display_name": "Python 3 (ipykernel)",
   "language": "python",
   "name": "python3"
  },
  "language_info": {
   "codemirror_mode": {
    "name": "ipython",
    "version": 3
   },
   "file_extension": ".py",
   "mimetype": "text/x-python",
   "name": "python",
   "nbconvert_exporter": "python",
   "pygments_lexer": "ipython3",
   "version": "3.9.9"
  },
  "toc": {
   "base_numbering": 1,
   "nav_menu": {},
   "number_sections": true,
   "sideBar": true,
   "skip_h1_title": false,
   "title_cell": "Table of Contents",
   "title_sidebar": "Contents",
   "toc_cell": false,
   "toc_position": {},
   "toc_section_display": true,
   "toc_window_display": false
  }
 },
 "nbformat": 4,
 "nbformat_minor": 5
}
