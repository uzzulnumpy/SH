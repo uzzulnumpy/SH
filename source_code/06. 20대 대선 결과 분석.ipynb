{
 "cells": [
  {
   "cell_type": "code",
   "execution_count": 5,
   "id": "b35c6992",
   "metadata": {},
   "outputs": [
    {
     "ename": "ImportError",
     "evalue": "Unable to import required dependencies:\nnumpy: \n\nIMPORTANT: PLEASE READ THIS FOR ADVICE ON HOW TO SOLVE THIS ISSUE!\n\nImporting the numpy C-extensions failed. This error can happen for\nmany reasons, often due to issues with your setup or how NumPy was\ninstalled.\n\nWe have compiled some common reasons and troubleshooting tips at:\n\n    https://numpy.org/devdocs/user/troubleshooting-importerror.html\n\nPlease note and check the following:\n\n  * The Python version is: Python3.9 from \"C:\\Users\\SH\\anaconda3\\python.exe\"\n  * The NumPy version is: \"1.20.3\"\n\nand make sure that they are the versions you expect.\nPlease carefully study the documentation linked above for further help.\n\nOriginal error was: DLL load failed while importing _multiarray_umath: 지정된 모듈을 찾을 수 없습니다.\n",
     "output_type": "error",
     "traceback": [
      "\u001b[1;31m---------------------------------------------------------------------------\u001b[0m",
      "\u001b[1;31mImportError\u001b[0m                               Traceback (most recent call last)",
      "\u001b[1;32m~\\AppData\\Local\\Temp/ipykernel_29652/3138005439.py\u001b[0m in \u001b[0;36m<module>\u001b[1;34m\u001b[0m\n\u001b[1;32m----> 1\u001b[1;33m \u001b[1;32mimport\u001b[0m \u001b[0mpandas\u001b[0m \u001b[1;32mas\u001b[0m \u001b[0mpd\u001b[0m\u001b[1;33m\u001b[0m\u001b[1;33m\u001b[0m\u001b[0m\n\u001b[0m\u001b[0;32m      2\u001b[0m \u001b[1;32mimport\u001b[0m \u001b[0mnumpy\u001b[0m \u001b[1;32mas\u001b[0m \u001b[0mnp\u001b[0m\u001b[1;33m\u001b[0m\u001b[1;33m\u001b[0m\u001b[0m\n\u001b[0;32m      3\u001b[0m \u001b[1;33m\u001b[0m\u001b[0m\n\u001b[0;32m      4\u001b[0m \u001b[1;32mimport\u001b[0m \u001b[0mplatform\u001b[0m\u001b[1;33m\u001b[0m\u001b[1;33m\u001b[0m\u001b[0m\n\u001b[0;32m      5\u001b[0m \u001b[1;32mimport\u001b[0m \u001b[0mmatplotlib\u001b[0m\u001b[1;33m.\u001b[0m\u001b[0mpyplot\u001b[0m \u001b[1;32mas\u001b[0m \u001b[0mplt\u001b[0m\u001b[1;33m\u001b[0m\u001b[1;33m\u001b[0m\u001b[0m\n",
      "\u001b[1;32m~\\anaconda3\\lib\\site-packages\\pandas\\__init__.py\u001b[0m in \u001b[0;36m<module>\u001b[1;34m\u001b[0m\n\u001b[0;32m     14\u001b[0m \u001b[1;33m\u001b[0m\u001b[0m\n\u001b[0;32m     15\u001b[0m \u001b[1;32mif\u001b[0m \u001b[0mmissing_dependencies\u001b[0m\u001b[1;33m:\u001b[0m\u001b[1;33m\u001b[0m\u001b[1;33m\u001b[0m\u001b[0m\n\u001b[1;32m---> 16\u001b[1;33m     raise ImportError(\n\u001b[0m\u001b[0;32m     17\u001b[0m         \u001b[1;34m\"Unable to import required dependencies:\\n\"\u001b[0m \u001b[1;33m+\u001b[0m \u001b[1;34m\"\\n\"\u001b[0m\u001b[1;33m.\u001b[0m\u001b[0mjoin\u001b[0m\u001b[1;33m(\u001b[0m\u001b[0mmissing_dependencies\u001b[0m\u001b[1;33m)\u001b[0m\u001b[1;33m\u001b[0m\u001b[1;33m\u001b[0m\u001b[0m\n\u001b[0;32m     18\u001b[0m     )\n",
      "\u001b[1;31mImportError\u001b[0m: Unable to import required dependencies:\nnumpy: \n\nIMPORTANT: PLEASE READ THIS FOR ADVICE ON HOW TO SOLVE THIS ISSUE!\n\nImporting the numpy C-extensions failed. This error can happen for\nmany reasons, often due to issues with your setup or how NumPy was\ninstalled.\n\nWe have compiled some common reasons and troubleshooting tips at:\n\n    https://numpy.org/devdocs/user/troubleshooting-importerror.html\n\nPlease note and check the following:\n\n  * The Python version is: Python3.9 from \"C:\\Users\\SH\\anaconda3\\python.exe\"\n  * The NumPy version is: \"1.20.3\"\n\nand make sure that they are the versions you expect.\nPlease carefully study the documentation linked above for further help.\n\nOriginal error was: DLL load failed while importing _multiarray_umath: 지정된 모듈을 찾을 수 없습니다.\n"
     ]
    }
   ],
   "source": [
    "import pandas as pd\n",
    "import numpy as np\n",
    "\n",
    "import platform\n",
    "import matplotlib.pyplot as plt\n",
    "\n",
    "%matplotlib inline\n",
    "\n",
    "\n",
    "plt.rcParams['font.family'] = 'Malgun Gothic'"
   ]
  },
  {
   "cell_type": "code",
   "execution_count": 8,
   "id": "8f62bef8",
   "metadata": {},
   "outputs": [],
   "source": [
    "from selenium import webdriver\n",
    "import time"
   ]
  },
  {
   "cell_type": "code",
   "execution_count": 9,
   "id": "54c9d428",
   "metadata": {},
   "outputs": [
    {
     "name": "stderr",
     "output_type": "stream",
     "text": [
      "C:\\Users\\SH\\AppData\\Local\\Temp\\ipykernel_17648\\3649647693.py:1: DeprecationWarning: executable_path has been deprecated, please pass in a Service object\n",
      "  driver = webdriver.Chrome('../driver/chromedriver')\n"
     ]
    }
   ],
   "source": [
    "driver = webdriver.Chrome('../driver/chromedriver')\n",
    "driver.get(\"http://info.nec.go.kr/\")"
   ]
  },
  {
   "cell_type": "code",
   "execution_count": 10,
   "id": "5d76bd62",
   "metadata": {},
   "outputs": [],
   "source": [
    "driver.switch_to.default_content()\n",
    "driver.switch_to.frame('main') \n",
    "# to 이후에 책은 _이고 에러남, . 찍어야함\n",
    "# 띄워놓은 크롬창에서 따로 대선 클릭해줘야함"
   ]
  },
  {
   "cell_type": "code",
   "execution_count": 11,
   "id": "22a2666c",
   "metadata": {},
   "outputs": [
    {
     "name": "stderr",
     "output_type": "stream",
     "text": [
      "C:\\Users\\SH\\AppData\\Local\\Temp\\ipykernel_17648\\3332928189.py:1: DeprecationWarning: find_element_by_xpath is deprecated. Please use find_element(by=By.XPATH, value=xpath) instead\n",
      "  driver.find_element_by_xpath(\"\"\"//*[@id=\"topmenu\"]/ul/li[4]/a/span\"\"\").click()\n"
     ]
    }
   ],
   "source": [
    "driver.find_element_by_xpath(\"\"\"//*[@id=\"topmenu\"]/ul/li[4]/a/span\"\"\").click()"
   ]
  },
  {
   "cell_type": "code",
   "execution_count": 12,
   "id": "14b59dde",
   "metadata": {},
   "outputs": [
    {
     "name": "stderr",
     "output_type": "stream",
     "text": [
      "C:\\Users\\SH\\AppData\\Local\\Temp\\ipykernel_17648\\2948858238.py:2: DeprecationWarning: find_elements_by_xpath is deprecated. Please use find_elements(by=By.XPATH, value=xpath) instead\n",
      "  driver.find_elements_by_xpath(make_xpath)[1].click()\n"
     ]
    }
   ],
   "source": [
    "make_xpath = \"\"\"//*[contains(text(), \"개표단위별 개표결과\")]\"\"\"\n",
    "driver.find_elements_by_xpath(make_xpath)[1].click()"
   ]
  },
  {
   "cell_type": "code",
   "execution_count": 13,
   "id": "15a6a623",
   "metadata": {},
   "outputs": [
    {
     "name": "stderr",
     "output_type": "stream",
     "text": [
      "C:\\Users\\SH\\AppData\\Local\\Temp\\ipykernel_17648\\4100690382.py:1: DeprecationWarning: find_element_by_xpath is deprecated. Please use find_element(by=By.XPATH, value=xpath) instead\n",
      "  driver.find_element_by_xpath(\"\"\"//*[@id=\"electionId1\"]\"\"\").click()\n"
     ]
    }
   ],
   "source": [
    "driver.find_element_by_xpath(\"\"\"//*[@id=\"electionId1\"]\"\"\").click()"
   ]
  },
  {
   "cell_type": "code",
   "execution_count": 14,
   "id": "fa3d3d02",
   "metadata": {},
   "outputs": [
    {
     "name": "stderr",
     "output_type": "stream",
     "text": [
      "C:\\Users\\SH\\AppData\\Local\\Temp\\ipykernel_17648\\1108943127.py:1: DeprecationWarning: find_element_by_xpath is deprecated. Please use find_element(by=By.XPATH, value=xpath) instead\n",
      "  sido_list_raw = driver.find_element_by_xpath(\"\"\"//*[@id=\"cityCode\"]\"\"\")\n",
      "C:\\Users\\SH\\AppData\\Local\\Programs\\Python\\Python39\\lib\\site-packages\\selenium\\webdriver\\remote\\webelement.py:359: UserWarning: find_elements_by_tag_name is deprecated. Please use find_elements(by=By.TAG_NAME, value=name) instead\n",
      "  warnings.warn(\"find_elements_by_tag_name is deprecated. Please use find_elements(by=By.TAG_NAME, value=name) instead\")\n"
     ]
    },
    {
     "data": {
      "text/plain": [
       "['서울특별시',\n",
       " '부산광역시',\n",
       " '대구광역시',\n",
       " '인천광역시',\n",
       " '광주광역시',\n",
       " '대전광역시',\n",
       " '울산광역시',\n",
       " '세종특별자치시',\n",
       " '경기도',\n",
       " '강원도',\n",
       " '충청북도',\n",
       " '충청남도',\n",
       " '전라북도',\n",
       " '전라남도',\n",
       " '경상북도',\n",
       " '경상남도',\n",
       " '제주특별자치도']"
      ]
     },
     "execution_count": 14,
     "metadata": {},
     "output_type": "execute_result"
    }
   ],
   "source": [
    "sido_list_raw = driver.find_element_by_xpath(\"\"\"//*[@id=\"cityCode\"]\"\"\")\n",
    "sido_list = sido_list_raw.find_elements_by_tag_name(\"option\")\n",
    "sido_names_values = [option.text for option in sido_list]\n",
    "sido_names_values = sido_names_values[1:]\n",
    "sido_names_values"
   ]
  },
  {
   "cell_type": "code",
   "execution_count": 15,
   "id": "b4eb2523",
   "metadata": {},
   "outputs": [
    {
     "name": "stderr",
     "output_type": "stream",
     "text": [
      "C:\\Users\\SH\\AppData\\Local\\Temp\\ipykernel_17648\\2493498672.py:1: DeprecationWarning: find_element_by_* commands are deprecated. Please use find_element() instead\n",
      "  element = driver.find_element_by_id(\"cityCode\")\n"
     ]
    }
   ],
   "source": [
    "element = driver.find_element_by_id(\"cityCode\")\n",
    "element.send_keys(sido_names_values[0])"
   ]
  },
  {
   "cell_type": "code",
   "execution_count": 16,
   "id": "5b2367a4",
   "metadata": {},
   "outputs": [
    {
     "name": "stderr",
     "output_type": "stream",
     "text": [
      "C:\\Users\\SH\\AppData\\Local\\Temp\\ipykernel_17648\\2954026282.py:1: DeprecationWarning: find_element_by_xpath is deprecated. Please use find_element(by=By.XPATH, value=xpath) instead\n",
      "  sigun_list_raw = driver.find_element_by_xpath(\"\"\"//*[@id=\"townCode\"]\"\"\")\n"
     ]
    },
    {
     "data": {
      "text/plain": [
       "['종로구',\n",
       " '중구',\n",
       " '용산구',\n",
       " '성동구',\n",
       " '광진구',\n",
       " '동대문구',\n",
       " '중랑구',\n",
       " '성북구',\n",
       " '강북구',\n",
       " '도봉구',\n",
       " '노원구',\n",
       " '은평구',\n",
       " '서대문구',\n",
       " '마포구',\n",
       " '양천구',\n",
       " '강서구',\n",
       " '구로구',\n",
       " '금천구',\n",
       " '영등포구',\n",
       " '동작구',\n",
       " '관악구',\n",
       " '서초구',\n",
       " '강남구',\n",
       " '송파구',\n",
       " '강동구']"
      ]
     },
     "execution_count": 16,
     "metadata": {},
     "output_type": "execute_result"
    }
   ],
   "source": [
    "sigun_list_raw = driver.find_element_by_xpath(\"\"\"//*[@id=\"townCode\"]\"\"\")\n",
    "sigun_list = sigun_list_raw.find_elements_by_tag_name(\"option\")\n",
    "sigun_names_values = [option.text for option in sigun_list]\n",
    "sigun_names_values = sigun_names_values[1:]\n",
    "sigun_names_values"
   ]
  },
  {
   "cell_type": "code",
   "execution_count": 17,
   "id": "7557de72",
   "metadata": {},
   "outputs": [
    {
     "name": "stderr",
     "output_type": "stream",
     "text": [
      "C:\\Users\\SH\\AppData\\Local\\Temp\\ipykernel_17648\\2656824496.py:1: DeprecationWarning: find_element_by_* commands are deprecated. Please use find_element() instead\n",
      "  element = driver.find_element_by_id(\"townCode\")\n"
     ]
    }
   ],
   "source": [
    "element = driver.find_element_by_id(\"townCode\")\n",
    "element.send_keys(sigun_names_values[0])"
   ]
  },
  {
   "cell_type": "code",
   "execution_count": 18,
   "id": "28048f16",
   "metadata": {
    "scrolled": true
   },
   "outputs": [
    {
     "name": "stderr",
     "output_type": "stream",
     "text": [
      "C:\\Users\\SH\\AppData\\Local\\Temp\\ipykernel_17648\\2608550766.py:1: DeprecationWarning: find_element_by_xpath is deprecated. Please use find_element(by=By.XPATH, value=xpath) instead\n",
      "  driver.find_element_by_xpath(\"\"\"//*[@id=\"spanSubmit\"]/input\"\"\").click()\n"
     ]
    }
   ],
   "source": [
    "driver.find_element_by_xpath(\"\"\"//*[@id=\"spanSubmit\"]/input\"\"\").click()"
   ]
  },
  {
   "cell_type": "code",
   "execution_count": 19,
   "id": "fc77973c",
   "metadata": {},
   "outputs": [],
   "source": [
    "from bs4 import BeautifulSoup\n",
    "html = driver.page_source\n",
    "soup = BeautifulSoup(html, 'html.parser')"
   ]
  },
  {
   "cell_type": "code",
   "execution_count": 20,
   "id": "ad3b2a49",
   "metadata": {},
   "outputs": [
    {
     "data": {
      "text/plain": [
       "[<td class=\"alignR\">100,629</td>,\n",
       " <td class=\"alignR\">46,130</td>,\n",
       " <td class=\"alignR\">49,172</td>,\n",
       " <td class=\"alignR\">3,115</td>,\n",
       " <td class=\"alignR\">53</td>,\n",
       " <td class=\"alignR\">558</td>]"
      ]
     },
     "execution_count": 20,
     "metadata": {},
     "output_type": "execute_result"
    }
   ],
   "source": [
    "tmp = soup.find_all('td', 'alignR')\n",
    "tmp[1:7]"
   ]
  },
  {
   "cell_type": "code",
   "execution_count": 21,
   "id": "d2e69174",
   "metadata": {},
   "outputs": [
    {
     "data": {
      "application/vnd.jupyter.widget-view+json": {
       "model_id": "360be3ad66bb48d6a25c6c05c3c52e4e",
       "version_major": 2,
       "version_minor": 0
      },
      "text/plain": [
       "  0%|          | 0/17 [00:00<?, ?it/s]"
      ]
     },
     "metadata": {},
     "output_type": "display_data"
    },
    {
     "name": "stderr",
     "output_type": "stream",
     "text": [
      "C:\\Users\\SH\\AppData\\Local\\Temp\\ipykernel_17648\\323016145.py:7: DeprecationWarning: find_element_by_* commands are deprecated. Please use find_element() instead\n",
      "  element = driver.find_element_by_id(\"cityCode\")\n",
      "C:\\Users\\SH\\AppData\\Local\\Temp\\ipykernel_17648\\323016145.py:12: DeprecationWarning: find_element_by_xpath is deprecated. Please use find_element(by=By.XPATH, value=xpath) instead\n",
      "  sigun_list_raw = driver.find_element_by_xpath(\"\"\"//*[@id=\"townCode\"]\"\"\")\n"
     ]
    }
   ],
   "source": [
    "from tqdm import notebook\n",
    "\n",
    "sido_name_list = []\n",
    "sigun_name_list = []\n",
    "\n",
    "for sido_value in notebook.tqdm(sido_names_values):\n",
    "    element = driver.find_element_by_id(\"cityCode\")\n",
    "    element.send_keys(sido_value)\n",
    "    \n",
    "    time.sleep(1) # 왜그런지는 모르겠는데 이거 넣어야 제대로 들어가네\n",
    "    \n",
    "    sigun_list_raw = driver.find_element_by_xpath(\"\"\"//*[@id=\"townCode\"]\"\"\")\n",
    "    sigun_list = sigun_list_raw.find_elements_by_tag_name(\"option\")\n",
    "\n",
    "    sigun_names_values = [option.text for option in sigun_list]\n",
    "    sigun_names_values = sigun_names_values[1:]\n",
    "\n",
    "    for sigun_value in sigun_names_values:\n",
    "        sido_name_list.append(sido_value)\n",
    "        sigun_name_list.append(sigun_value)"
   ]
  },
  {
   "cell_type": "code",
   "execution_count": 22,
   "id": "3e661de0",
   "metadata": {
    "scrolled": true
   },
   "outputs": [
    {
     "data": {
      "text/plain": [
       "['서울특별시',\n",
       " '서울특별시',\n",
       " '서울특별시',\n",
       " '서울특별시',\n",
       " '서울특별시',\n",
       " '서울특별시',\n",
       " '서울특별시',\n",
       " '서울특별시',\n",
       " '서울특별시',\n",
       " '서울특별시',\n",
       " '서울특별시',\n",
       " '서울특별시',\n",
       " '서울특별시',\n",
       " '서울특별시',\n",
       " '서울특별시',\n",
       " '서울특별시',\n",
       " '서울특별시',\n",
       " '서울특별시',\n",
       " '서울특별시',\n",
       " '서울특별시',\n",
       " '서울특별시',\n",
       " '서울특별시',\n",
       " '서울특별시',\n",
       " '서울특별시',\n",
       " '서울특별시',\n",
       " '부산광역시',\n",
       " '부산광역시',\n",
       " '부산광역시',\n",
       " '부산광역시',\n",
       " '부산광역시',\n",
       " '부산광역시',\n",
       " '부산광역시',\n",
       " '부산광역시',\n",
       " '부산광역시',\n",
       " '부산광역시',\n",
       " '부산광역시',\n",
       " '부산광역시',\n",
       " '부산광역시',\n",
       " '부산광역시',\n",
       " '부산광역시',\n",
       " '부산광역시',\n",
       " '대구광역시',\n",
       " '대구광역시',\n",
       " '대구광역시',\n",
       " '대구광역시',\n",
       " '대구광역시',\n",
       " '대구광역시',\n",
       " '대구광역시',\n",
       " '대구광역시',\n",
       " '인천광역시',\n",
       " '인천광역시',\n",
       " '인천광역시',\n",
       " '인천광역시',\n",
       " '인천광역시',\n",
       " '인천광역시',\n",
       " '인천광역시',\n",
       " '인천광역시',\n",
       " '인천광역시',\n",
       " '인천광역시',\n",
       " '광주광역시',\n",
       " '광주광역시',\n",
       " '광주광역시',\n",
       " '광주광역시',\n",
       " '광주광역시',\n",
       " '대전광역시',\n",
       " '대전광역시',\n",
       " '대전광역시',\n",
       " '대전광역시',\n",
       " '대전광역시',\n",
       " '울산광역시',\n",
       " '울산광역시',\n",
       " '울산광역시',\n",
       " '울산광역시',\n",
       " '울산광역시',\n",
       " '세종특별자치시',\n",
       " '경기도',\n",
       " '경기도',\n",
       " '경기도',\n",
       " '경기도',\n",
       " '경기도',\n",
       " '경기도',\n",
       " '경기도',\n",
       " '경기도',\n",
       " '경기도',\n",
       " '경기도',\n",
       " '경기도',\n",
       " '경기도',\n",
       " '경기도',\n",
       " '경기도',\n",
       " '경기도',\n",
       " '경기도',\n",
       " '경기도',\n",
       " '경기도',\n",
       " '경기도',\n",
       " '경기도',\n",
       " '경기도',\n",
       " '경기도',\n",
       " '경기도',\n",
       " '경기도',\n",
       " '경기도',\n",
       " '경기도',\n",
       " '경기도',\n",
       " '경기도',\n",
       " '경기도',\n",
       " '경기도',\n",
       " '경기도',\n",
       " '경기도',\n",
       " '경기도',\n",
       " '경기도',\n",
       " '경기도',\n",
       " '경기도',\n",
       " '경기도',\n",
       " '경기도',\n",
       " '경기도',\n",
       " '경기도',\n",
       " '경기도',\n",
       " '경기도',\n",
       " '강원도',\n",
       " '강원도',\n",
       " '강원도',\n",
       " '강원도',\n",
       " '강원도',\n",
       " '강원도',\n",
       " '강원도',\n",
       " '강원도',\n",
       " '강원도',\n",
       " '강원도',\n",
       " '강원도',\n",
       " '강원도',\n",
       " '강원도',\n",
       " '강원도',\n",
       " '강원도',\n",
       " '강원도',\n",
       " '강원도',\n",
       " '강원도',\n",
       " '충청북도',\n",
       " '충청북도',\n",
       " '충청북도',\n",
       " '충청북도',\n",
       " '충청북도',\n",
       " '충청북도',\n",
       " '충청북도',\n",
       " '충청북도',\n",
       " '충청북도',\n",
       " '충청북도',\n",
       " '충청북도',\n",
       " '충청북도',\n",
       " '충청북도',\n",
       " '충청북도',\n",
       " '충청남도',\n",
       " '충청남도',\n",
       " '충청남도',\n",
       " '충청남도',\n",
       " '충청남도',\n",
       " '충청남도',\n",
       " '충청남도',\n",
       " '충청남도',\n",
       " '충청남도',\n",
       " '충청남도',\n",
       " '충청남도',\n",
       " '충청남도',\n",
       " '충청남도',\n",
       " '충청남도',\n",
       " '충청남도',\n",
       " '충청남도',\n",
       " '전라북도',\n",
       " '전라북도',\n",
       " '전라북도',\n",
       " '전라북도',\n",
       " '전라북도',\n",
       " '전라북도',\n",
       " '전라북도',\n",
       " '전라북도',\n",
       " '전라북도',\n",
       " '전라북도',\n",
       " '전라북도',\n",
       " '전라북도',\n",
       " '전라북도',\n",
       " '전라북도',\n",
       " '전라북도',\n",
       " '전라남도',\n",
       " '전라남도',\n",
       " '전라남도',\n",
       " '전라남도',\n",
       " '전라남도',\n",
       " '전라남도',\n",
       " '전라남도',\n",
       " '전라남도',\n",
       " '전라남도',\n",
       " '전라남도',\n",
       " '전라남도',\n",
       " '전라남도',\n",
       " '전라남도',\n",
       " '전라남도',\n",
       " '전라남도',\n",
       " '전라남도',\n",
       " '전라남도',\n",
       " '전라남도',\n",
       " '전라남도',\n",
       " '전라남도',\n",
       " '전라남도',\n",
       " '전라남도',\n",
       " '경상북도',\n",
       " '경상북도',\n",
       " '경상북도',\n",
       " '경상북도',\n",
       " '경상북도',\n",
       " '경상북도',\n",
       " '경상북도',\n",
       " '경상북도',\n",
       " '경상북도',\n",
       " '경상북도',\n",
       " '경상북도',\n",
       " '경상북도',\n",
       " '경상북도',\n",
       " '경상북도',\n",
       " '경상북도',\n",
       " '경상북도',\n",
       " '경상북도',\n",
       " '경상북도',\n",
       " '경상북도',\n",
       " '경상북도',\n",
       " '경상북도',\n",
       " '경상북도',\n",
       " '경상북도',\n",
       " '경상북도',\n",
       " '경상남도',\n",
       " '경상남도',\n",
       " '경상남도',\n",
       " '경상남도',\n",
       " '경상남도',\n",
       " '경상남도',\n",
       " '경상남도',\n",
       " '경상남도',\n",
       " '경상남도',\n",
       " '경상남도',\n",
       " '경상남도',\n",
       " '경상남도',\n",
       " '경상남도',\n",
       " '경상남도',\n",
       " '경상남도',\n",
       " '경상남도',\n",
       " '경상남도',\n",
       " '경상남도',\n",
       " '경상남도',\n",
       " '경상남도',\n",
       " '경상남도',\n",
       " '경상남도',\n",
       " '제주특별자치도',\n",
       " '제주특별자치도']"
      ]
     },
     "execution_count": 22,
     "metadata": {},
     "output_type": "execute_result"
    }
   ],
   "source": [
    "sido_name_list"
   ]
  },
  {
   "cell_type": "code",
   "execution_count": 23,
   "id": "75303c0f",
   "metadata": {},
   "outputs": [
    {
     "data": {
      "text/plain": [
       "['종로구',\n",
       " '중구',\n",
       " '용산구',\n",
       " '성동구',\n",
       " '광진구',\n",
       " '동대문구',\n",
       " '중랑구',\n",
       " '성북구',\n",
       " '강북구',\n",
       " '도봉구',\n",
       " '노원구',\n",
       " '은평구',\n",
       " '서대문구',\n",
       " '마포구',\n",
       " '양천구',\n",
       " '강서구',\n",
       " '구로구',\n",
       " '금천구',\n",
       " '영등포구',\n",
       " '동작구',\n",
       " '관악구',\n",
       " '서초구',\n",
       " '강남구',\n",
       " '송파구',\n",
       " '강동구',\n",
       " '중구',\n",
       " '서구',\n",
       " '동구',\n",
       " '영도구',\n",
       " '부산진구',\n",
       " '동래구',\n",
       " '남구',\n",
       " '북구',\n",
       " '해운대구',\n",
       " '기장군',\n",
       " '사하구',\n",
       " '금정구',\n",
       " '강서구',\n",
       " '연제구',\n",
       " '수영구',\n",
       " '사상구',\n",
       " '중구',\n",
       " '동구',\n",
       " '서구',\n",
       " '남구',\n",
       " '북구',\n",
       " '수성구',\n",
       " '달서구',\n",
       " '달성군',\n",
       " '중구',\n",
       " '동구',\n",
       " '미추홀구',\n",
       " '연수구',\n",
       " '남동구',\n",
       " '부평구',\n",
       " '계양구',\n",
       " '서구',\n",
       " '강화군',\n",
       " '옹진군',\n",
       " '동구',\n",
       " '서구',\n",
       " '남구',\n",
       " '북구',\n",
       " '광산구',\n",
       " '동구',\n",
       " '중구',\n",
       " '서구',\n",
       " '유성구',\n",
       " '대덕구',\n",
       " '중구',\n",
       " '남구',\n",
       " '동구',\n",
       " '북구',\n",
       " '울주군',\n",
       " '세종특별자치시',\n",
       " '수원시장안구',\n",
       " '수원시권선구',\n",
       " '수원시팔달구',\n",
       " '수원시영통구',\n",
       " '성남시수정구',\n",
       " '성남시중원구',\n",
       " '성남시분당구',\n",
       " '의정부시',\n",
       " '안양시만안구',\n",
       " '안양시동안구',\n",
       " '부천시',\n",
       " '광명시',\n",
       " '평택시',\n",
       " '양주시',\n",
       " '동두천시',\n",
       " '안산시상록구',\n",
       " '안산시단원구',\n",
       " '고양시덕양구',\n",
       " '고양시일산동구',\n",
       " '고양시일산서구',\n",
       " '과천시',\n",
       " '의왕시',\n",
       " '구리시',\n",
       " '남양주시',\n",
       " '오산시',\n",
       " '화성시',\n",
       " '시흥시',\n",
       " '군포시',\n",
       " '하남시',\n",
       " '파주시',\n",
       " '여주시',\n",
       " '이천시',\n",
       " '용인시처인구',\n",
       " '용인시수지구',\n",
       " '용인시기흥구',\n",
       " '안성시',\n",
       " '김포시',\n",
       " '광주시',\n",
       " '포천시',\n",
       " '연천군',\n",
       " '양평군',\n",
       " '가평군',\n",
       " '춘천시',\n",
       " '원주시',\n",
       " '강릉시',\n",
       " '동해시',\n",
       " '삼척시',\n",
       " '태백시',\n",
       " '정선군',\n",
       " '속초시',\n",
       " '고성군',\n",
       " '양양군',\n",
       " '인제군',\n",
       " '홍천군',\n",
       " '횡성군',\n",
       " '영월군',\n",
       " '평창군',\n",
       " '화천군',\n",
       " '양구군',\n",
       " '철원군',\n",
       " '청주시상당구',\n",
       " '청주시서원구',\n",
       " '청주시흥덕구',\n",
       " '청주시청원구',\n",
       " '충주시',\n",
       " '제천시',\n",
       " '단양군',\n",
       " '영동군',\n",
       " '보은군',\n",
       " '옥천군',\n",
       " '음성군',\n",
       " '진천군',\n",
       " '괴산군',\n",
       " '증평군',\n",
       " '천안시서북구',\n",
       " '천안시동남구',\n",
       " '공주시',\n",
       " '보령시',\n",
       " '아산시',\n",
       " '서산시',\n",
       " '태안군',\n",
       " '금산군',\n",
       " '논산시',\n",
       " '계룡시',\n",
       " '당진시',\n",
       " '부여군',\n",
       " '서천군',\n",
       " '홍성군',\n",
       " '청양군',\n",
       " '예산군',\n",
       " '전주시완산구',\n",
       " '전주시덕진구',\n",
       " '군산시',\n",
       " '익산시',\n",
       " '정읍시',\n",
       " '남원시',\n",
       " '김제시',\n",
       " '완주군',\n",
       " '진안군',\n",
       " '무주군',\n",
       " '장수군',\n",
       " '임실군',\n",
       " '순창군',\n",
       " '고창군',\n",
       " '부안군',\n",
       " '목포시',\n",
       " '여수시',\n",
       " '순천시',\n",
       " '나주시',\n",
       " '광양시',\n",
       " '담양군',\n",
       " '장성군',\n",
       " '곡성군',\n",
       " '구례군',\n",
       " '고흥군',\n",
       " '보성군',\n",
       " '화순군',\n",
       " '장흥군',\n",
       " '강진군',\n",
       " '완도군',\n",
       " '해남군',\n",
       " '진도군',\n",
       " '영암군',\n",
       " '무안군',\n",
       " '영광군',\n",
       " '함평군',\n",
       " '신안군',\n",
       " '포항시북구',\n",
       " '포항시남구',\n",
       " '울릉군',\n",
       " '경주시',\n",
       " '김천시',\n",
       " '안동시',\n",
       " '구미시',\n",
       " '영주시',\n",
       " '영천시',\n",
       " '상주시',\n",
       " '문경시',\n",
       " '예천군',\n",
       " '경산시',\n",
       " '청도군',\n",
       " '고령군',\n",
       " '성주군',\n",
       " '칠곡군',\n",
       " '군위군',\n",
       " '의성군',\n",
       " '청송군',\n",
       " '영양군',\n",
       " '영덕군',\n",
       " '봉화군',\n",
       " '울진군',\n",
       " '창원시의창구',\n",
       " '창원시성산구',\n",
       " '창원시마산합포구',\n",
       " '창원시마산회원구',\n",
       " '창원시진해구',\n",
       " '진주시',\n",
       " '통영시',\n",
       " '고성군',\n",
       " '사천시',\n",
       " '김해시',\n",
       " '밀양시',\n",
       " '거제시',\n",
       " '의령군',\n",
       " '함안군',\n",
       " '창녕군',\n",
       " '양산시',\n",
       " '하동군',\n",
       " '남해군',\n",
       " '함양군',\n",
       " '산청군',\n",
       " '거창군',\n",
       " '합천군',\n",
       " '제주시',\n",
       " '서귀포시']"
      ]
     },
     "execution_count": 23,
     "metadata": {},
     "output_type": "execute_result"
    }
   ],
   "source": [
    "sigun_name_list"
   ]
  },
  {
   "cell_type": "code",
   "execution_count": 24,
   "id": "c43aee72",
   "metadata": {},
   "outputs": [
    {
     "data": {
      "text/html": [
       "<div>\n",
       "<style scoped>\n",
       "    .dataframe tbody tr th:only-of-type {\n",
       "        vertical-align: middle;\n",
       "    }\n",
       "\n",
       "    .dataframe tbody tr th {\n",
       "        vertical-align: top;\n",
       "    }\n",
       "\n",
       "    .dataframe thead th {\n",
       "        text-align: right;\n",
       "    }\n",
       "</style>\n",
       "<table border=\"1\" class=\"dataframe\">\n",
       "  <thead>\n",
       "    <tr style=\"text-align: right;\">\n",
       "      <th></th>\n",
       "      <th>광역시도</th>\n",
       "      <th>시군</th>\n",
       "    </tr>\n",
       "  </thead>\n",
       "  <tbody>\n",
       "    <tr>\n",
       "      <th>0</th>\n",
       "      <td>서울특별시</td>\n",
       "      <td>종로구</td>\n",
       "    </tr>\n",
       "    <tr>\n",
       "      <th>1</th>\n",
       "      <td>서울특별시</td>\n",
       "      <td>중구</td>\n",
       "    </tr>\n",
       "    <tr>\n",
       "      <th>2</th>\n",
       "      <td>서울특별시</td>\n",
       "      <td>용산구</td>\n",
       "    </tr>\n",
       "    <tr>\n",
       "      <th>3</th>\n",
       "      <td>서울특별시</td>\n",
       "      <td>성동구</td>\n",
       "    </tr>\n",
       "    <tr>\n",
       "      <th>4</th>\n",
       "      <td>서울특별시</td>\n",
       "      <td>광진구</td>\n",
       "    </tr>\n",
       "    <tr>\n",
       "      <th>...</th>\n",
       "      <td>...</td>\n",
       "      <td>...</td>\n",
       "    </tr>\n",
       "    <tr>\n",
       "      <th>245</th>\n",
       "      <td>경상남도</td>\n",
       "      <td>산청군</td>\n",
       "    </tr>\n",
       "    <tr>\n",
       "      <th>246</th>\n",
       "      <td>경상남도</td>\n",
       "      <td>거창군</td>\n",
       "    </tr>\n",
       "    <tr>\n",
       "      <th>247</th>\n",
       "      <td>경상남도</td>\n",
       "      <td>합천군</td>\n",
       "    </tr>\n",
       "    <tr>\n",
       "      <th>248</th>\n",
       "      <td>제주특별자치도</td>\n",
       "      <td>제주시</td>\n",
       "    </tr>\n",
       "    <tr>\n",
       "      <th>249</th>\n",
       "      <td>제주특별자치도</td>\n",
       "      <td>서귀포시</td>\n",
       "    </tr>\n",
       "  </tbody>\n",
       "</table>\n",
       "<p>250 rows × 2 columns</p>\n",
       "</div>"
      ],
      "text/plain": [
       "        광역시도    시군\n",
       "0      서울특별시   종로구\n",
       "1      서울특별시    중구\n",
       "2      서울특별시   용산구\n",
       "3      서울특별시   성동구\n",
       "4      서울특별시   광진구\n",
       "..       ...   ...\n",
       "245     경상남도   산청군\n",
       "246     경상남도   거창군\n",
       "247     경상남도   합천군\n",
       "248  제주특별자치도   제주시\n",
       "249  제주특별자치도  서귀포시\n",
       "\n",
       "[250 rows x 2 columns]"
      ]
     },
     "execution_count": 24,
     "metadata": {},
     "output_type": "execute_result"
    }
   ],
   "source": [
    "election_result = pd.DataFrame({'광역시도':sido_name_list, '시군':sigun_name_list})\n",
    "election_result"
   ]
  },
  {
   "cell_type": "code",
   "execution_count": 25,
   "id": "73cab322",
   "metadata": {},
   "outputs": [],
   "source": [
    "def get_vote_info(n):\n",
    "    html = driver.page_source\n",
    "    soup = BeautifulSoup(html, 'lxml') # 'lxml' 이 뭐지\n",
    "    \n",
    "    tmp = soup.find_all('td', 'alignR')\n",
    "    tmp_values = [float(tmp_val.get_text().replace(',', '')) for tmp_val in tmp[1:7]]\n",
    "    \n",
    "    pop[n] = tmp_values[0]\n",
    "    lee[n] = tmp_values[1]\n",
    "    yoon[n] = tmp_values[2]\n",
    "    shim[n] = tmp_values[3]\n",
    "    heo[n] = tmp_values[5]"
   ]
  },
  {
   "cell_type": "code",
   "execution_count": 26,
   "id": "c5a7e2c3",
   "metadata": {},
   "outputs": [],
   "source": [
    "import numpy as np\n",
    "def fail_procedure(n):\n",
    "    pop[n] = np.nan\n",
    "    lee[n] = np.nan\n",
    "    yoon[n] = np.nan\n",
    "    shim[n] = np.nan\n",
    "    heo[n] = np.nan"
   ]
  },
  {
   "cell_type": "code",
   "execution_count": 27,
   "id": "a4639c9e",
   "metadata": {},
   "outputs": [
    {
     "data": {
      "text/plain": [
       "(250, 250, 250, 250, 250)"
      ]
     },
     "execution_count": 27,
     "metadata": {},
     "output_type": "execute_result"
    }
   ],
   "source": [
    "pop = [np.nan]*len(election_result)\n",
    "lee = [np.nan]*len(election_result)\n",
    "yoon = [np.nan]*len(election_result)\n",
    "shim = [np.nan]*len(election_result)\n",
    "heo = [np.nan]*len(election_result)\n",
    "\n",
    "len(pop), len(lee), len(yoon), len(shim), len(heo)"
   ]
  },
  {
   "cell_type": "code",
   "execution_count": null,
   "id": "4adf13d5",
   "metadata": {},
   "outputs": [
    {
     "data": {
      "application/vnd.jupyter.widget-view+json": {
       "model_id": "b62b3c6466104cdab407fd4405d9e59e",
       "version_major": 2,
       "version_minor": 0
      },
      "text/plain": [
       "  0%|          | 0/250 [00:00<?, ?it/s]"
      ]
     },
     "metadata": {},
     "output_type": "display_data"
    },
    {
     "name": "stderr",
     "output_type": "stream",
     "text": [
      "C:\\Users\\SH\\AppData\\Local\\Temp\\ipykernel_17648\\1774379646.py:3: DeprecationWarning: find_element_by_* commands are deprecated. Please use find_element() instead\n",
      "  element = driver.find_element_by_id(\"cityCode\")\n",
      "C:\\Users\\SH\\AppData\\Local\\Temp\\ipykernel_17648\\1774379646.py:8: DeprecationWarning: find_element_by_* commands are deprecated. Please use find_element() instead\n",
      "  element = driver.find_element_by_id(\"townCode\")\n",
      "C:\\Users\\SH\\AppData\\Local\\Temp\\ipykernel_17648\\1774379646.py:11: DeprecationWarning: find_element_by_xpath is deprecated. Please use find_element(by=By.XPATH, value=xpath) instead\n",
      "  driver.find_element_by_xpath('//*[@id=\"spanSubmit\"]/input').click()\n"
     ]
    }
   ],
   "source": [
    "for n in notebook.tqdm(election_result.index):\n",
    "    try:\n",
    "        element = driver.find_element_by_id(\"cityCode\")\n",
    "        element.send_keys(election_result['광역시도'][n])\n",
    "        \n",
    "        time.sleep(0.5)\n",
    "        \n",
    "        element = driver.find_element_by_id(\"townCode\")\n",
    "        element.send_keys(election_result['시군'][n])\n",
    "        \n",
    "        driver.find_element_by_xpath('//*[@id=\"spanSubmit\"]/input').click()\n",
    "        \n",
    "        time.sleep(0.5)\n",
    "        \n",
    "        get_vote_info(n)\n",
    "        \n",
    "    except:\n",
    "        print('Error')\n",
    "        fail_procedure(n)"
   ]
  },
  {
   "cell_type": "code",
   "execution_count": null,
   "id": "e4bf2162",
   "metadata": {},
   "outputs": [],
   "source": [
    "election_result['pop'] = pop \n",
    "election_result['lee'] = lee\n",
    "election_result['yoon'] = yoon \n",
    "election_result['shim'] = shim\n",
    "election_result['heo'] = heo\n",
    "election_result.head()"
   ]
  },
  {
   "cell_type": "code",
   "execution_count": null,
   "id": "a66a7b4b",
   "metadata": {},
   "outputs": [],
   "source": [
    "re_try_index = election_result[election_result['pop'].isnull()].index\n",
    "\n",
    "for n in notebook.tqdm(re_try_index):\n",
    "    try:\n",
    "        element = driver.find_element_by_id(\"cityCode\")\n",
    "        element.send_keys(election_result['광역시도'][n])\n",
    "        \n",
    "        time.sleep(0.5)\n",
    "        \n",
    "        element = driver.find_element_by_id(\"townCode\")\n",
    "        element.send_keys(election_result['시군'][n])\n",
    "        \n",
    "        driver.find_element_by_xpath('//*[@id=\"spanSubmit\"]/input').click()\n",
    "        \n",
    "        time.sleep(0.5)\n",
    "        \n",
    "        get_vote_info(n)\n",
    "        \n",
    "    except:\n",
    "        print('Error')\n",
    "        fail_procedure(n)"
   ]
  },
  {
   "cell_type": "code",
   "execution_count": null,
   "id": "b6319e9e",
   "metadata": {},
   "outputs": [],
   "source": [
    "election_result['pop'] = pop \n",
    "election_result['lee'] = lee\n",
    "election_result['yoon'] = yoon \n",
    "election_result['shim'] = shim\n",
    "election_result['heo'] = heo\n",
    "election_result"
   ]
  },
  {
   "cell_type": "code",
   "execution_count": null,
   "id": "181a2907",
   "metadata": {},
   "outputs": [],
   "source": [
    "election_result.to_csv('../data/06. election_result.csv', encoding='euc-kr', sep=',')"
   ]
  },
  {
   "cell_type": "code",
   "execution_count": null,
   "id": "b49add60",
   "metadata": {},
   "outputs": [],
   "source": [
    "election_result = pd.read_csv('../data/06. election_result.csv', encoding='euc-kr', \n",
    "                              index_col=0)\n",
    "election_result.head()"
   ]
  },
  {
   "cell_type": "code",
   "execution_count": null,
   "id": "ff7a3fa7",
   "metadata": {},
   "outputs": [],
   "source": [
    "sido_candi =  election_result['광역시도']\n",
    "sido_candi = [name[:2] if name[:2] in ['서울','부산','대구','광주','인천','대전','울산'] else '' for name in sido_candi]"
   ]
  },
  {
   "cell_type": "code",
   "execution_count": null,
   "id": "572b014b",
   "metadata": {},
   "outputs": [],
   "source": [
    "def cut_char_sigu(name):\n",
    "    return name if len(name)==2 else name[:-1]"
   ]
  },
  {
   "cell_type": "code",
   "execution_count": null,
   "id": "d15aea5d",
   "metadata": {},
   "outputs": [],
   "source": [
    "import re\n",
    "\n",
    "sigun_candi = ['']*len(election_result)\n",
    "\n",
    "for n in election_result.index:\n",
    "    each = election_result['시군'][n]\n",
    "    if each[:2] in ['수원', '성남','안양','안산','고양',\n",
    "                            '용인','청주','천안','전주','포항','창원']:\n",
    "        sigun_candi[n] = re.split('시', each)[0]+' '+ cut_char_sigu(re.split('시', each)[1])\n",
    "    else:\n",
    "        sigun_candi[n] = cut_char_sigu(each)\n",
    "        \n",
    "sigun_candi"
   ]
  },
  {
   "cell_type": "code",
   "execution_count": null,
   "id": "174b5cef",
   "metadata": {},
   "outputs": [],
   "source": [
    "ID_candi = [sido_candi[n]+' '+sigun_candi[n] for n in range(0,len(sigun_candi))]\n",
    "\n",
    "ID_candi = [name[1:] if name[0]==' ' else name for name in ID_candi]\n",
    "ID_candi = [name[:2] if name[:2]=='세종' else name for name in ID_candi]\n",
    "\n",
    "ID_candi"
   ]
  },
  {
   "cell_type": "code",
   "execution_count": null,
   "id": "7cf73148",
   "metadata": {},
   "outputs": [],
   "source": [
    "election_result['ID'] = ID_candi\n",
    "election_result.head(10)"
   ]
  },
  {
   "cell_type": "code",
   "execution_count": null,
   "id": "14729195",
   "metadata": {
    "scrolled": false
   },
   "outputs": [],
   "source": [
    "election_result[['rate_lee','rate_yoon','rate_shim', 'rate_heo']] = \\\n",
    "            election_result[['lee','yoon','shim','heo']].div(election_result['pop'],  axis=0)\n",
    "election_result[['rate_lee','rate_yoon','rate_shim', 'rate_heo']] *= 100\n",
    "election_result.head()"
   ]
  },
  {
   "cell_type": "code",
   "execution_count": null,
   "id": "e68bdc55",
   "metadata": {},
   "outputs": [],
   "source": [
    "election_result.sort_values(['rate_lee'], ascending=[False]).head(10)"
   ]
  },
  {
   "cell_type": "code",
   "execution_count": null,
   "id": "fdc8f353",
   "metadata": {},
   "outputs": [],
   "source": [
    "election_result.sort_values(['rate_yoon'], ascending=[False]).head(10)"
   ]
  },
  {
   "cell_type": "code",
   "execution_count": null,
   "id": "6f022110",
   "metadata": {
    "scrolled": false
   },
   "outputs": [],
   "source": [
    "election_result.sort_values(['rate_shim'], ascending=[False]).head(10)"
   ]
  },
  {
   "cell_type": "code",
   "execution_count": null,
   "id": "c623b792",
   "metadata": {},
   "outputs": [],
   "source": []
  },
  {
   "cell_type": "code",
   "execution_count": null,
   "id": "af50c61a",
   "metadata": {},
   "outputs": [],
   "source": []
  },
  {
   "cell_type": "code",
   "execution_count": null,
   "id": "7b6c8193",
   "metadata": {},
   "outputs": [],
   "source": []
  }
 ],
 "metadata": {
  "kernelspec": {
   "display_name": "Python 3 (ipykernel)",
   "language": "python",
   "name": "python3"
  },
  "language_info": {
   "codemirror_mode": {
    "name": "ipython",
    "version": 3
   },
   "file_extension": ".py",
   "mimetype": "text/x-python",
   "name": "python",
   "nbconvert_exporter": "python",
   "pygments_lexer": "ipython3",
   "version": "3.9.7"
  },
  "toc": {
   "base_numbering": 1,
   "nav_menu": {},
   "number_sections": true,
   "sideBar": true,
   "skip_h1_title": false,
   "title_cell": "Table of Contents",
   "title_sidebar": "Contents",
   "toc_cell": false,
   "toc_position": {},
   "toc_section_display": true,
   "toc_window_display": false
  }
 },
 "nbformat": 4,
 "nbformat_minor": 5
}
